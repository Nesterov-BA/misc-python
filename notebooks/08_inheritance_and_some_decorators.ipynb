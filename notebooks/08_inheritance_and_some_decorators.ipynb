{
 "cells": [
  {
   "cell_type": "markdown",
   "metadata": {
    "id": "VkLzYqOV4Azs"
   },
   "source": [
    "# План на сегодня\n",
    "\n",
    "1. классовый метод, декоратор @classmethod\n",
    "2. статический метод, декоратор @staticmethod\n",
    "3. свойство, декоратор @property\n",
    "7. протокол итерации\n",
    "8. `Callable` и некоторые встроенные функции\n",
    "1. Наследование"
   ]
  },
  {
   "cell_type": "markdown",
   "metadata": {
    "id": "Ze6woCVI8tv2",
    "tags": []
   },
   "source": [
    "## Декораторы classmethod, staticmethod, property"
   ]
  },
  {
   "cell_type": "markdown",
   "metadata": {},
   "source": [
    "По умолчанию при объявлении метода в теле класса его первый параметр используется как ссылка на экземпляр, но иногда нам нужны методы, которые можно было бы вызвать без экземпляра класса. Такие методы бывают двух типов: [классовые](https://docs.python.org/3/library/functions.html#classmethod) и [статические](https://docs.python.org/3/library/functions.html#staticmethod). \n",
    "\n",
    "Изменить поведение \"первый аргумент - ссылка на экземпляр\" и превратить методы в статические или классовые можно с помощью специальных **встроенных** декораторов `staticmethod` и `classmethod`. Мы еще не изучали принципы работы декораторов, но пока что нам надо лишь использовать их и посмотреть на результат. Для того, чтобы **задекорировать** метод, нужно перед его объявлением написать `@name_of_decorator`:"
   ]
  },
  {
   "cell_type": "code",
   "execution_count": null,
   "metadata": {
    "id": "ONourDG88tv2"
   },
   "outputs": [],
   "source": [
    "class MyClass:\n",
    "    \n",
    "    def method(self):\n",
    "        print('Обычные методы можно назвать методами уровня экземпляра класса.')\n",
    "    \n",
    "    @staticmethod\n",
    "    def static_sum(arg1, arg2):  # нет self\n",
    "        print('статический метод умеет работать только с переданными ему аргументами\\n'\n",
    "              'и не имеет доступа к классу или его экземплярам')\n",
    "        print(arg1 + arg2) \n",
    "        \n",
    "    @classmethod\n",
    "    def clsmethod(cls):  # первый аргумент теперь ссылка на сам класс\n",
    "        print(cls.__name__)\n",
    "        print('Метод уровня класса имеет доступ к классу.\\n' \n",
    "              'Часто используется для создания новых экземпляров класса')"
   ]
  },
  {
   "cell_type": "markdown",
   "metadata": {},
   "source": [
    "Классовые методы можно назвать методами уровня класса. Их особенность в том, что первым аргументом они принимают ссылку не на экземпляр `self`, а на сам класс - `cls` (также имя по соглашению).\n",
    "\n",
    "Особенность статических в том, что им не нужна ссылка ни на экземпляр, ни на класс."
   ]
  },
  {
   "cell_type": "code",
   "execution_count": null,
   "metadata": {
    "tags": []
   },
   "outputs": [],
   "source": [
    "instance = MyClass()\n",
    "instance.method()"
   ]
  },
  {
   "cell_type": "code",
   "execution_count": null,
   "metadata": {
    "tags": []
   },
   "outputs": [],
   "source": [
    "MyClass.static_sum(1, 41)"
   ]
  },
  {
   "cell_type": "code",
   "execution_count": null,
   "metadata": {
    "tags": []
   },
   "outputs": [],
   "source": [
    "MyClass.clsmethod()"
   ]
  },
  {
   "cell_type": "markdown",
   "metadata": {},
   "source": [
    "Все эти методы все равно можно вызывать и от экземпляров:"
   ]
  },
  {
   "cell_type": "code",
   "execution_count": null,
   "metadata": {
    "tags": []
   },
   "outputs": [],
   "source": [
    "instance.static_sum(1, 41)\n",
    "instance.clsmethod()"
   ]
  },
  {
   "cell_type": "markdown",
   "metadata": {},
   "source": [
    "Далее разберемся с декоратором `property`."
   ]
  },
  {
   "cell_type": "markdown",
   "metadata": {},
   "source": [
    "### property"
   ]
  },
  {
   "cell_type": "markdown",
   "metadata": {},
   "source": [
    "https://docs.python.org/3/library/functions.html#property"
   ]
  },
  {
   "cell_type": "markdown",
   "metadata": {},
   "source": [
    "Выше мы обсудили, что для получения значений атрибутов принято писать getter'ы, а для изменения значений - setter'ы. Добавлю, что внутренняя логика этих методов может быть сильно шире, например, можно написать проверку типа пришедшего объекта или допустимый диапазон какого-нибудь значения. Для простоты примеров мы это не используем."
   ]
  },
  {
   "cell_type": "markdown",
   "metadata": {},
   "source": [
    "Вернемся к нашему классу `Figure` и перепишем его, создав getter для атрибута `_color` с помощью декоратора `property`:"
   ]
  },
  {
   "cell_type": "code",
   "execution_count": null,
   "metadata": {
    "tags": []
   },
   "outputs": [],
   "source": [
    "class Figure:\n",
    "    \n",
    "    def __init__(self, color):\n",
    "        self._color = color\n",
    "    \n",
    "    @property                    # устанавливает getter\n",
    "    def color(self):\n",
    "        print('вызван геттер')\n",
    "        return self._color"
   ]
  },
  {
   "cell_type": "code",
   "execution_count": null,
   "metadata": {
    "tags": []
   },
   "outputs": [],
   "source": [
    "square = Figure('red')\n",
    "square.color"
   ]
  },
  {
   "cell_type": "markdown",
   "metadata": {},
   "source": [
    "Обратите внимание, что мы получили значение цвета, обратившись по имени `color`, а не `_color`. Но это не все, ведь теперь изменить значение атрибута у нас не получится:"
   ]
  },
  {
   "cell_type": "code",
   "execution_count": null,
   "metadata": {
    "tags": []
   },
   "outputs": [],
   "source": [
    "square.color = 'green'"
   ]
  },
  {
   "cell_type": "markdown",
   "metadata": {},
   "source": [
    "Чтобы можно было менять цвет, нужно установить и setter следующим кодом:"
   ]
  },
  {
   "cell_type": "code",
   "execution_count": null,
   "metadata": {
    "tags": []
   },
   "outputs": [],
   "source": [
    "class Figure:\n",
    "    \n",
    "    def __init__(self, color):\n",
    "        self._color = color\n",
    "    \n",
    "    @property                    # устанавливает getter\n",
    "    def color(self):\n",
    "        print('вызван геттер')\n",
    "        return self._color\n",
    "    \n",
    "    @color.setter                # устанавливает setter\n",
    "    def color(self, new_color):\n",
    "        if isinstance(new_color, str):\n",
    "            print('вызван сеттер')\n",
    "            self._color = new_color"
   ]
  },
  {
   "cell_type": "code",
   "execution_count": null,
   "metadata": {
    "tags": []
   },
   "outputs": [],
   "source": [
    "square = Figure('red')"
   ]
  },
  {
   "cell_type": "code",
   "execution_count": null,
   "metadata": {
    "tags": []
   },
   "outputs": [],
   "source": [
    "square.color"
   ]
  },
  {
   "cell_type": "code",
   "execution_count": null,
   "metadata": {
    "tags": []
   },
   "outputs": [],
   "source": [
    "square.color = 'green'\n",
    "square.color"
   ]
  },
  {
   "cell_type": "markdown",
   "metadata": {},
   "source": [
    "Значение цвета хранится в приватной переменной `_color`, а новое свойство `color` \"было создано\" для нас декоратором `property`.\n",
    "\n",
    "**Note**: property (переводится как \"свойство\") — это способ доступа к внутреннему состоянию объекта. Обращение к свойству выглядит так же, как и обращение к атрибуту, но, в действительности, реализовано через вызов getter'а. Изменение значения свойства вызывает setter. Вообще еще можно установить так называемый deleter, который позволяет удалить атрибут, если надо:"
   ]
  },
  {
   "cell_type": "code",
   "execution_count": null,
   "metadata": {
    "tags": []
   },
   "outputs": [],
   "source": [
    "class Figure:\n",
    "    \n",
    "    def __init__(self, color):\n",
    "        self.color = color       # обратите внимание на изменение имени атрибута!\n",
    "    \n",
    "    @property                    # устанавливает getter\n",
    "    def color(self):\n",
    "        print('вызван getter')\n",
    "        return self._color\n",
    "    \n",
    "    @color.setter                # устанавливает setter\n",
    "    def color(self, new_color):\n",
    "        print('вызван setter')\n",
    "        self._color = new_color\n",
    "    \n",
    "    @color.deleter               # устанавливает deleter\n",
    "    def color(self):\n",
    "        print('вызван deleter')\n",
    "        del self._color"
   ]
  },
  {
   "cell_type": "code",
   "execution_count": null,
   "metadata": {
    "tags": []
   },
   "outputs": [],
   "source": [
    "square = Figure('red')"
   ]
  },
  {
   "cell_type": "markdown",
   "metadata": {},
   "source": [
    "При создании квадрата мы видим, что вызвался `setter`, так как раньше в `__init__` мы создавали атрибут `self._color`, а теперь там находится `self.color`, но ведь теперь `color` - имя свойства! Поэтому инструкция `self.color = color` в методе `__init__` вызывает setter."
   ]
  },
  {
   "cell_type": "code",
   "execution_count": null,
   "metadata": {
    "tags": []
   },
   "outputs": [],
   "source": [
    "square.color"
   ]
  },
  {
   "cell_type": "code",
   "execution_count": null,
   "metadata": {
    "tags": []
   },
   "outputs": [],
   "source": [
    "del square.color"
   ]
  },
  {
   "cell_type": "markdown",
   "metadata": {},
   "source": [
    "Необязательно определять все три метода для каждого свойства. Вы можете определить свойства, доступные только для чтения, установив только getter. Если значение атрибута будет меняться, то можно определить и setter. Ну а для удаления - deleter."
   ]
  },
  {
   "cell_type": "markdown",
   "metadata": {
    "id": "m3XSG-0r8tvz"
   },
   "source": [
    "## Где-то мы это уже видели: протокол итератора"
   ]
  },
  {
   "cell_type": "markdown",
   "metadata": {
    "id": "zvP4-LB68tvz"
   },
   "source": [
    "Вспомним основные тезисы:\n",
    "\n",
    "1. Чтобы контейнер был итерабельным, у него должен быть определен метод `__iter__`, возвращающий итератор. Недостаток итераторов в том, что они хранят сразу все значения, то есть могут занимать много оперативной памяти.\n",
    "\n",
    "2. У итератора должны быть определены методы `__next__` (возвращает следующий элемент из контейнера) и `__iter__` (обычно просто возвращает самого себя - `self`)\n",
    "\n",
    "3. Если итератор исчерпан (отдал все элементы), то метод `__next__` **всегда** должен `StopIteration`\n",
    "\n",
    "4. Генератор - специальный вид итератора. Они не хранят все объекты в оперативной памяти, а создают их при обращении - такой принцип работы называется \"ленивые вычисления\". При создании генератора методы `__next__` и `__iter__` определяются автоматически, то есть можно сказать, что интерфейс итератора реализуется неявно.\n",
    "\n",
    "5. Генераторы создаются либо через определение функции, которая возвращает объект генератора, если в ней присутствует `yield statement`, либо с помощью `generator expression`, также возвращающее объект генератора."
   ]
  },
  {
   "cell_type": "markdown",
   "metadata": {},
   "source": [
    "В качестве примера итератора давайте напишем ненастоящий range, который будет выполнять проход с единичным шагом от `0` до заданного `stop` включительно:"
   ]
  },
  {
   "cell_type": "code",
   "execution_count": null,
   "metadata": {
    "id": "9Vm5Y3Vb8tvz"
   },
   "outputs": [],
   "source": [
    "class MySimpleRange:\n",
    "    \n",
    "    def __init__(self, stop):\n",
    "        self.start = 0\n",
    "        self.stop = stop\n",
    "\n",
    "    def __iter__(self):\n",
    "        return self\n",
    "\n",
    "    def __next__(self):\n",
    "        if self.start <= self.stop:            \n",
    "            start = self.start\n",
    "            self.start += 1\n",
    "            return start\n",
    "        else:\n",
    "            raise StopIteration"
   ]
  },
  {
   "cell_type": "code",
   "execution_count": null,
   "metadata": {
    "colab": {
     "base_uri": "https://localhost:8080/",
     "height": 365
    },
    "id": "QH2bSPmQ8tv0",
    "outputId": "fabc651c-24b8-4320-94b3-436e45bdd301"
   },
   "outputs": [],
   "source": [
    "iterator = MySimpleRange(3)\n",
    "print(iterator.start, iterator.stop)\n",
    "\n",
    "print(iterator.__next__())\n",
    "print(iterator.__next__())\n",
    "print(iterator.__next__())\n",
    "print(iterator.__next__())"
   ]
  },
  {
   "cell_type": "markdown",
   "metadata": {},
   "source": [
    "При следующем вызове `next` мы бы получили `StopIteration`, но поскольку `for statement` самостоятельно обрабатывает это исключение, то обычно нам отдельно его обрабатывать не надо:"
   ]
  },
  {
   "cell_type": "code",
   "execution_count": null,
   "metadata": {
    "colab": {
     "base_uri": "https://localhost:8080/",
     "height": 365
    },
    "id": "QH2bSPmQ8tv0",
    "outputId": "fabc651c-24b8-4320-94b3-436e45bdd301"
   },
   "outputs": [],
   "source": [
    "for value in MySimpleRange(3):\n",
    "    print(value)"
   ]
  },
  {
   "cell_type": "markdown",
   "metadata": {},
   "source": [
    "У итераторов есть некоторые ограничения. Например, нельзя узнать его длину, а после прохода по нему сделать это еще раз не получится:"
   ]
  },
  {
   "cell_type": "code",
   "execution_count": null,
   "metadata": {
    "tags": []
   },
   "outputs": [],
   "source": [
    "for value in iterator:\n",
    "    print(value)\n",
    "else:\n",
    "    print('Итератор опустел. Для нового прохода его надо пересоздать')"
   ]
  },
  {
   "cell_type": "markdown",
   "metadata": {},
   "source": [
    "Самостоятельно убедитесь, что с итераторами:\n",
    "- нельзя достать элемент по индексу\n",
    "- нельзя взять срез\n",
    "- но можно взять срез с помощью `itertools.islice`\n",
    "- их можно распаковывать `*`\n",
    "- и использовать везде, где нужны итераторы"
   ]
  },
  {
   "cell_type": "code",
   "execution_count": null,
   "metadata": {},
   "outputs": [],
   "source": [
    "print(*MySimpleRange(2))"
   ]
  },
  {
   "cell_type": "markdown",
   "metadata": {},
   "source": [
    "Поскольку теперь нам больше известно об атрибутах объектов, то посмотрим в атрибуты объекта типа `range`:"
   ]
  },
  {
   "cell_type": "code",
   "execution_count": null,
   "metadata": {
    "colab": {
     "base_uri": "https://localhost:8080/"
    },
    "id": "L90AMy9XwA0a",
    "outputId": "1d6b01c9-f4a4-49ec-d643-eae4ed976b5c"
   },
   "outputs": [],
   "source": [
    "ran = range(3)\n",
    "\n",
    "print(type(ran))\n",
    "\n",
    "ran.start, ran.stop, ran.step"
   ]
  },
  {
   "cell_type": "markdown",
   "metadata": {},
   "source": [
    "И создадим его аналог*, но в виде генератора:"
   ]
  },
  {
   "cell_type": "code",
   "execution_count": null,
   "metadata": {
    "colab": {
     "base_uri": "https://localhost:8080/"
    },
    "id": "RNnwoAVD8tv1",
    "outputId": "0a614ce8-9491-4530-e802-681e076670e5"
   },
   "outputs": [],
   "source": [
    "def my_range(start, stop=None, step=1):\n",
    "    if stop is None:\n",
    "        stop = start\n",
    "        start = 0\n",
    "    i = start\n",
    "    while i < stop:\n",
    "        yield i\n",
    "        i += step\n",
    "\n",
    "for value in my_range(2, 7, 2):\n",
    "    print(value)\n",
    "\n",
    "print()    \n",
    "print(type(my_range))\n",
    "print(type(my_range(3)))  # вызвали my_range\n",
    "\n",
    "print()\n",
    "# убедимся, что все методы итератора действительно есть\n",
    "print(my_range(3).__iter__)\n",
    "print(my_range(3).__iter__())\n",
    "print(my_range(3).__next__)"
   ]
  },
  {
   "cell_type": "markdown",
   "metadata": {
    "id": "HzwRYbTb8tv3"
   },
   "source": [
    "## Встроенные функции"
   ]
  },
  {
   "cell_type": "markdown",
   "metadata": {},
   "source": [
    "### `getattr`"
   ]
  },
  {
   "cell_type": "markdown",
   "metadata": {},
   "source": [
    "```python\n",
    "getattr(obj, name[, default]) -> value\n",
    "```\n",
    "\n",
    "Получает атрибут объекта: вызов `getattr(x, 'y')` эквивалентен `x.y`"
   ]
  },
  {
   "cell_type": "code",
   "execution_count": null,
   "metadata": {
    "tags": []
   },
   "outputs": [],
   "source": [
    "getattr(square, '_color')"
   ]
  },
  {
   "cell_type": "code",
   "execution_count": null,
   "metadata": {},
   "outputs": [],
   "source": [
    "square._color"
   ]
  },
  {
   "cell_type": "markdown",
   "metadata": {},
   "source": [
    "Можно задать дефолтное значение:"
   ]
  },
  {
   "cell_type": "code",
   "execution_count": null,
   "metadata": {
    "tags": []
   },
   "outputs": [],
   "source": [
    "getattr(square, 'this_attr_does_not_exist', 42)"
   ]
  },
  {
   "cell_type": "code",
   "execution_count": null,
   "metadata": {},
   "outputs": [],
   "source": [
    "dict.get()"
   ]
  },
  {
   "cell_type": "markdown",
   "metadata": {},
   "source": [
    "### `hasattr`"
   ]
  },
  {
   "cell_type": "markdown",
   "metadata": {},
   "source": [
    "```python\n",
    "hasattr(obj, name, /)\n",
    "```\n",
    "\n",
    "Возвращает `True`, если объект обладает атрибутом с заданным именем:"
   ]
  },
  {
   "cell_type": "code",
   "execution_count": null,
   "metadata": {
    "colab": {
     "base_uri": "https://localhost:8080/",
     "height": 169
    },
    "id": "THk-EfqfzBiU",
    "outputId": "1fe33fd5-7066-4d30-daec-2c53c3593c79"
   },
   "outputs": [],
   "source": [
    "hasattr(square, '_color')"
   ]
  },
  {
   "cell_type": "code",
   "execution_count": null,
   "metadata": {
    "tags": []
   },
   "outputs": [],
   "source": [
    "hasattr(square, 'this_attr_does_not_exist')"
   ]
  },
  {
   "cell_type": "markdown",
   "metadata": {},
   "source": [
    "При этом проверка наличия атрибута происходит вызовом `getattr(obj, name)`:"
   ]
  },
  {
   "cell_type": "code",
   "execution_count": null,
   "metadata": {
    "tags": []
   },
   "outputs": [],
   "source": [
    "hasattr(square, 'color')"
   ]
  },
  {
   "cell_type": "markdown",
   "metadata": {},
   "source": [
    "### `setattr`"
   ]
  },
  {
   "cell_type": "markdown",
   "metadata": {},
   "source": [
    "```python\n",
    "setattr(obj, name, value, /)\n",
    "```\n",
    "\n",
    "Присваивает атрибуту `name` данного объекта `obj` указанное значение `value`.\n",
    "\n",
    "`setattr(obj, 'name', value)` эквивалентно `obj.name = value`"
   ]
  },
  {
   "cell_type": "code",
   "execution_count": null,
   "metadata": {},
   "outputs": [],
   "source": [
    "setattr(square, 'this_attr_does_not_exist', 42)"
   ]
  },
  {
   "cell_type": "code",
   "execution_count": null,
   "metadata": {
    "tags": []
   },
   "outputs": [],
   "source": [
    "getattr(square, 'this_attr_does_not_exist')"
   ]
  },
  {
   "cell_type": "code",
   "execution_count": null,
   "metadata": {
    "scrolled": true
   },
   "outputs": [],
   "source": [
    "setattr(square, 'color', 42)"
   ]
  },
  {
   "cell_type": "markdown",
   "metadata": {},
   "source": [
    "### `delattr`"
   ]
  },
  {
   "cell_type": "markdown",
   "metadata": {},
   "source": [
    "```python\n",
    "delattr(obj, name, /)\n",
    "```\n",
    "\n",
    "Удаляет атрибут `name` заданного объекта `obj`.\n",
    "\n",
    "`delattr(obj, name)` эквивалентно `del obj.name`"
   ]
  },
  {
   "cell_type": "code",
   "execution_count": null,
   "metadata": {
    "tags": []
   },
   "outputs": [],
   "source": [
    "delattr(square, 'this_attr_does_not_exist')"
   ]
  },
  {
   "cell_type": "markdown",
   "metadata": {},
   "source": [
    "### `callable`"
   ]
  },
  {
   "cell_type": "markdown",
   "metadata": {},
   "source": [
    "```python\n",
    "callable(obj, /) -> bool\n",
    "```\n",
    "\n",
    "Возвращает `True`, если объект является вызываемым:"
   ]
  },
  {
   "cell_type": "code",
   "execution_count": null,
   "metadata": {
    "tags": []
   },
   "outputs": [],
   "source": [
    "callable(len)"
   ]
  },
  {
   "cell_type": "code",
   "execution_count": null,
   "metadata": {
    "tags": []
   },
   "outputs": [],
   "source": [
    "callable(5)"
   ]
  },
  {
   "cell_type": "markdown",
   "metadata": {},
   "source": [
    "Оператор вызова объекта - круглые скобки справа от выражения, возвращающего этот объект."
   ]
  },
  {
   "cell_type": "markdown",
   "metadata": {},
   "source": [
    "Все классы являются вызываемыми, как и функции, а, например, числа, списки и строки (экземпляры классов `int/float/complex`, `list`, `str`) вызвать не получится:"
   ]
  },
  {
   "cell_type": "code",
   "execution_count": null,
   "metadata": {
    "tags": []
   },
   "outputs": [],
   "source": [
    "[]()"
   ]
  },
  {
   "cell_type": "markdown",
   "metadata": {},
   "source": [
    "Но можно ли сделать экземпляр класса вызываемым? Да, для этого надо переопределить специальный метод `__call__`:"
   ]
  },
  {
   "cell_type": "code",
   "execution_count": null,
   "metadata": {
    "colab": {
     "base_uri": "https://localhost:8080/"
    },
    "id": "6Y-SFHOS8tv3",
    "outputId": "4fb7968b-809d-4118-c260-ec29b3783710"
   },
   "outputs": [],
   "source": [
    "class Summator:\n",
    "    \n",
    "    def __init__(self, x=0):\n",
    "        print('вызван инит')\n",
    "        self.x = x\n",
    "\n",
    "    def __call__(self, y):\n",
    "        print('вызван метод __call__')\n",
    "        return self.x + y"
   ]
  },
  {
   "cell_type": "code",
   "execution_count": null,
   "metadata": {
    "colab": {
     "base_uri": "https://localhost:8080/"
    },
    "id": "6Y-SFHOS8tv3",
    "outputId": "4fb7968b-809d-4118-c260-ec29b3783710"
   },
   "outputs": [],
   "source": [
    "sum10 = Summator(10)\n",
    "sum42 = Summator(42)"
   ]
  },
  {
   "cell_type": "code",
   "execution_count": null,
   "metadata": {
    "tags": []
   },
   "outputs": [],
   "source": [
    "sum10.x"
   ]
  },
  {
   "cell_type": "code",
   "execution_count": null,
   "metadata": {
    "tags": []
   },
   "outputs": [],
   "source": [
    "sum10(1000)"
   ]
  },
  {
   "cell_type": "code",
   "execution_count": null,
   "metadata": {
    "tags": []
   },
   "outputs": [],
   "source": [
    "sum10(10)"
   ]
  },
  {
   "cell_type": "code",
   "execution_count": null,
   "metadata": {
    "tags": []
   },
   "outputs": [],
   "source": [
    "sum42(0)"
   ]
  },
  {
   "cell_type": "markdown",
   "metadata": {
    "id": "__JLzgHtjtqe"
   },
   "source": [
    "## Наследование"
   ]
  },
  {
   "cell_type": "markdown",
   "metadata": {
    "id": "pZqafLTF4Azt"
   },
   "source": [
    "**Наследование**: создание нового класса на основе уже существующего. При этом наследуются его атрибуты и методы."
   ]
  },
  {
   "cell_type": "markdown",
   "metadata": {
    "id": "MWFcy4rb4Azu"
   },
   "source": [
    "- класс-потомок - child class - subclass\n",
    "- родительский класс - base class"
   ]
  },
  {
   "cell_type": "markdown",
   "metadata": {
    "id": "3A6E5hlI4Azu"
   },
   "source": [
    "Прародителем всех классов в Python является `object`"
   ]
  },
  {
   "cell_type": "code",
   "execution_count": null,
   "metadata": {
    "id": "ihugHWWW4Azv",
    "tags": []
   },
   "outputs": [],
   "source": [
    "object"
   ]
  },
  {
   "cell_type": "code",
   "execution_count": null,
   "metadata": {
    "id": "8N-AZdJejtqe"
   },
   "outputs": [],
   "source": [
    "class Animal:\n",
    "\n",
    "    some_value = \"animal\"\n",
    "\n",
    "    def __init__(self):\n",
    "        print(\"i am an animal\")\n",
    "\n",
    "    def speak(self):\n",
    "        raise NotImplementedError('i don\\'t know how to speak')"
   ]
  },
  {
   "cell_type": "code",
   "execution_count": null,
   "metadata": {
    "id": "EuupTS-n4Azv",
    "outputId": "dc9e6425-11a6-4b40-db1d-ebc3730cfd66"
   },
   "outputs": [],
   "source": [
    "animal = Animal()"
   ]
  },
  {
   "cell_type": "code",
   "execution_count": null,
   "metadata": {
    "id": "8FmL-flK4Azw",
    "outputId": "409d6289-3309-4a77-8956-ad1619b9ae48"
   },
   "outputs": [],
   "source": [
    "animal.some_value"
   ]
  },
  {
   "cell_type": "code",
   "execution_count": null,
   "metadata": {
    "id": "GhhsjKqd4Azw",
    "outputId": "0d11bc61-5b4e-4e1a-f8ff-e03306e8a9a8"
   },
   "outputs": [],
   "source": [
    "animal.speak()"
   ]
  },
  {
   "cell_type": "code",
   "execution_count": null,
   "metadata": {
    "id": "01bUoqDe4Azx"
   },
   "outputs": [],
   "source": [
    "class Cat(Animal):\n",
    "\n",
    "    some_value = \"cat\"\n",
    "\n",
    "    def __init__(self):\n",
    "        super().__init__()\n",
    "        print(\"i am a cat\")\n",
    "\n",
    "    def speak(self):\n",
    "        print('meoooow')"
   ]
  },
  {
   "cell_type": "code",
   "execution_count": null,
   "metadata": {
    "colab": {
     "base_uri": "https://localhost:8080/",
     "height": 53
    },
    "id": "7rPSlk-Njtqf",
    "outputId": "d3067cb7-2392-45b2-e2f0-ccac8d093c1e"
   },
   "outputs": [],
   "source": [
    "animal = Animal()\n",
    "animal.some_value"
   ]
  },
  {
   "cell_type": "code",
   "execution_count": null,
   "metadata": {
    "colab": {
     "base_uri": "https://localhost:8080/",
     "height": 71
    },
    "id": "7HszCJIfjtqf",
    "outputId": "dc35f5e1-91e9-4116-f373-65395bc6304a",
    "scrolled": true
   },
   "outputs": [],
   "source": [
    "cat = Cat()\n",
    "cat.some_value  # переопределено"
   ]
  },
  {
   "cell_type": "code",
   "execution_count": null,
   "metadata": {
    "id": "tTa2YWKe4Azx"
   },
   "outputs": [],
   "source": [
    "class Hedgehog(Animal):\n",
    "\n",
    "    def __init__(self):\n",
    "        super().__init__()\n",
    "        print(\"i am a hedgehog\")"
   ]
  },
  {
   "cell_type": "code",
   "execution_count": null,
   "metadata": {
    "colab": {
     "base_uri": "https://localhost:8080/",
     "height": 71
    },
    "id": "E44xtL7njtqf",
    "outputId": "bd9cc7f0-a399-4cdf-9ca0-12ce321978e3"
   },
   "outputs": [],
   "source": [
    "hedgehog = Hedgehog()\n",
    "hedgehog.some_value  # не переопределено"
   ]
  },
  {
   "cell_type": "code",
   "execution_count": null,
   "metadata": {
    "id": "wGeltIBg4Azx"
   },
   "outputs": [],
   "source": [
    "class Dog(Animal):\n",
    "\n",
    "    some_value = \"dog\"\n",
    "\n",
    "    def __init__(self):\n",
    "        super().__init__()\n",
    "        print(\"i am a dog\")"
   ]
  },
  {
   "cell_type": "code",
   "execution_count": null,
   "metadata": {
    "colab": {
     "base_uri": "https://localhost:8080/",
     "height": 71
    },
    "id": "CjTEPk-qjtqf",
    "outputId": "ed203e89-4e6d-4ff9-8a68-4ec9c2ccc0a2"
   },
   "outputs": [],
   "source": [
    "dog = Dog()\n",
    "dog.some_value  # переопределено"
   ]
  },
  {
   "cell_type": "code",
   "execution_count": null,
   "metadata": {
    "id": "VkVVBzl54Azy"
   },
   "outputs": [],
   "source": [
    "class CatDog(Cat, Dog):  # ромбовидное наследование возможно\n",
    "\n",
    "    def __init__(self):\n",
    "        super().__init__()\n",
    "        print(\"i am a CatDog!\")"
   ]
  },
  {
   "cell_type": "code",
   "execution_count": null,
   "metadata": {
    "colab": {
     "base_uri": "https://localhost:8080/",
     "height": 106
    },
    "id": "ci_lczg3jtqf",
    "outputId": "d3f66d76-140b-45a3-ec94-2f167d203ac6"
   },
   "outputs": [],
   "source": [
    "catdog = CatDog()\n",
    "catdog.some_value"
   ]
  },
  {
   "cell_type": "code",
   "execution_count": null,
   "metadata": {
    "id": "RawPXlyL4Azy",
    "outputId": "c3dfbed3-5278-4716-f4b3-77e00292d1d6"
   },
   "outputs": [],
   "source": [
    "catdog.speak()"
   ]
  },
  {
   "cell_type": "code",
   "execution_count": null,
   "metadata": {
    "id": "JxOncfhU6-ku"
   },
   "outputs": [],
   "source": [
    "# ______Animal______\n",
    "# ___/    |    \\\n",
    "# Cat   Dog   Hedgehog\n",
    "#    \\   /\n",
    "#    CatDog     catdog.speak"
   ]
  },
  {
   "cell_type": "code",
   "execution_count": null,
   "metadata": {
    "colab": {
     "base_uri": "https://localhost:8080/",
     "height": 106
    },
    "id": "uLTW9wRTjtqf",
    "outputId": "769ec99f-39ab-4d83-923a-5d6b5bde6f85"
   },
   "outputs": [],
   "source": [
    "class CatDog(Dog, Cat):  # теперь наоборот, найдите два отличия!\n",
    "    def __init__(self):\n",
    "        super().__init__()\n",
    "        print(\"i am a CatDog!\")\n",
    "\n",
    "catdog = CatDog()\n",
    "catdog.some_value"
   ]
  },
  {
   "cell_type": "code",
   "execution_count": null,
   "metadata": {
    "id": "QU3OCiTj4Azy",
    "outputId": "a1cec4d7-02d1-43a7-a39f-b244e1dd0d84"
   },
   "outputs": [],
   "source": [
    "catdog.speak()"
   ]
  },
  {
   "cell_type": "code",
   "execution_count": null,
   "metadata": {
    "colab": {
     "base_uri": "https://localhost:8080/",
     "height": 329
    },
    "id": "XUlv8zBqjtqf",
    "outputId": "a2a31419-e7a4-4771-e9d3-1574d59692fe",
    "scrolled": true
   },
   "outputs": [],
   "source": [
    "cat.speak()  # переопределено\n",
    "dog.speak()  # не переопределено"
   ]
  },
  {
   "cell_type": "code",
   "execution_count": null,
   "metadata": {
    "id": "W2cmSppP4Azz",
    "outputId": "31829d52-4c8a-4caa-d5a0-1fe771ca1b07"
   },
   "outputs": [],
   "source": [
    "def f():\n",
    "    print('aaaaa')\n",
    "    g()\n",
    "    print('AAAAAA')\n",
    "\n",
    "\n",
    "def g():\n",
    "    print('bbbbbb')\n",
    "    print('BBBBBBB')\n",
    "\n",
    "f()"
   ]
  },
  {
   "cell_type": "code",
   "execution_count": null,
   "metadata": {
    "colab": {
     "base_uri": "https://localhost:8080/"
    },
    "id": "mCHZ2ezyjAbs",
    "outputId": "f0127c33-46d6-4670-c90d-0e1f64205f93",
    "scrolled": true
   },
   "outputs": [],
   "source": [
    "class A:\n",
    "    def method(self):\n",
    "        print('I\\'m \"class A\"')\n",
    "        # super().method()\n",
    "        print('I\\'m here \"class A\"')\n",
    "\n",
    "\n",
    "class B(A):\n",
    "    def method(self):\n",
    "        print('I\\'m \"class B\"')\n",
    "        super().method()\n",
    "        print('I\\'m here \"class B\"')\n",
    "\n",
    "class C(A):\n",
    "    def method(self):\n",
    "        print('I\\'m \"class C\"')\n",
    "        super().method()\n",
    "        print('I\\'m here \"class C\"')\n",
    "\n",
    "class D(B, C):\n",
    "    def method(self):\n",
    "        print('I\\'m \"class D\"')\n",
    "        super().method()\n",
    "        print('I\\'m here \"class D\"')\n",
    "\n",
    "class E:\n",
    "    def method(self):\n",
    "        print('I\\'m \"class E\"')\n",
    "        super().method()\n",
    "        print('I\\'m here \"class E\"')\n",
    "\n",
    "class F(E, D):\n",
    "    def method(self):\n",
    "        print('I\\'m \"class F\"')\n",
    "        super().method()\n",
    "        print('I\\'m here \"class F\"')\n",
    "\n",
    "\n",
    "f = F()\n",
    "f.method()"
   ]
  },
  {
   "cell_type": "code",
   "execution_count": null,
   "metadata": {},
   "outputs": [],
   "source": [
    "print(F.mro())"
   ]
  },
  {
   "cell_type": "code",
   "execution_count": null,
   "metadata": {},
   "outputs": [],
   "source": [
    "F.__mro__"
   ]
  },
  {
   "cell_type": "code",
   "execution_count": null,
   "metadata": {
    "colab": {
     "base_uri": "https://localhost:8080/"
    },
    "id": "HkcjakBOjQun",
    "outputId": "4374c97e-04f0-4a0a-9709-5335ea898573"
   },
   "outputs": [],
   "source": [
    "D.__mro__"
   ]
  },
  {
   "cell_type": "code",
   "execution_count": null,
   "metadata": {
    "id": "5W-RfeUo4Azz",
    "outputId": "35e0b6a3-0b9a-47a3-c953-9edf43ffe702"
   },
   "outputs": [],
   "source": [
    "D.__mro__ = (D, C, B, A, object)"
   ]
  },
  {
   "cell_type": "code",
   "execution_count": null,
   "metadata": {
    "id": "7maxtRn74Azz",
    "outputId": "fbdbda69-1c5f-4f1a-91fd-1f0c02922b53"
   },
   "outputs": [],
   "source": [
    "print(isinstance(1, (int, str)))\n",
    "print(isinstance(True, int))\n",
    "print(isinstance(Animal, object))\n",
    "print(isinstance(F, object))\n",
    "print(isinstance(42, str))\n",
    "print(issubclass(F, B))\n",
    "print(issubclass(D, (E, C)))\n",
    "print(isinstance(F, B))"
   ]
  },
  {
   "cell_type": "code",
   "execution_count": null,
   "metadata": {},
   "outputs": [],
   "source": [
    "D.__bases__"
   ]
  },
  {
   "cell_type": "markdown",
   "metadata": {},
   "source": [
    "## Документация:\n",
    "\n",
    "- [Tutorial 9. Classes](https://docs.python.org/3/tutorial/classes.html)\n",
    "- [Data Model 3.2.13.5 Static method objects](https://docs.python.org/3/reference/datamodel.html#static-method-objects)\n",
    "- [Data Model 3.2.13.6 Class method objects](https://docs.python.org/3/reference/datamodel.html#class-method-objects)\n",
    "- [Data Model 3.3.6. Emulating callable objects](https://docs.python.org/3/reference/datamodel.html#emulating-callable-objects)\n",
    "- [HOWTO: Method Resolution Order](https://docs.python.org/3/howto/mro.html#python-2-3-mro)\n",
    "\n",
    "https://en.wikipedia.org/wiki/C3_linearization"
   ]
  },
  {
   "cell_type": "code",
   "execution_count": null,
   "metadata": {},
   "outputs": [],
   "source": []
  }
 ],
 "metadata": {
  "celltoolbar": "Слайд-шоу",
  "colab": {
   "provenance": []
  },
  "kernelspec": {
   "display_name": "Python [conda env:crs_env42]",
   "language": "python",
   "name": "conda-env-crs_env42-py"
  },
  "language_info": {
   "codemirror_mode": {
    "name": "ipython",
    "version": 3
   },
   "file_extension": ".py",
   "mimetype": "text/x-python",
   "name": "python",
   "nbconvert_exporter": "python",
   "pygments_lexer": "ipython3",
   "version": "3.11.6"
  }
 },
 "nbformat": 4,
 "nbformat_minor": 4
}
