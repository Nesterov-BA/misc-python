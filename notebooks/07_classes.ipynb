{
 "cells": [
  {
   "cell_type": "markdown",
   "metadata": {},
   "source": [
    "# Классы и ООП\n",
    "\n",
    "**Ilia Sklonin**"
   ]
  },
  {
   "cell_type": "markdown",
   "metadata": {},
   "source": [
    "## План на сегодня\n",
    "\n",
    "1. базовый синтаксис: инструкция `class` и создание экземпляров\n",
    "2. методы класса, атрибуты класса и атрибуты экземпляра\n",
    "3. основные принципы объектно-ориентированного программирования\n",
    "4. приватность атрибутов и символ `_`\n",
    "5. специальные атрибуты классов и экземпляров"
   ]
  },
  {
   "cell_type": "markdown",
   "metadata": {},
   "source": [
    "## Базовая информация о классах"
   ]
  },
  {
   "cell_type": "markdown",
   "metadata": {},
   "source": [
    "Вы уже давно должны были заметить, что в Python:\n",
    "- все является объектом\n",
    "- все объекты обладают атрибутами (и методами)\n",
    "\n",
    "Это очень тесно связано с объектно-ориентированной парадигмой программирования, в которой программа является совокупностью объектов и различными взаимодействиями между ними.\n",
    "\n",
    "Как могут вести себя объекты и какого вида хранят информацию - описано в их типах.\n",
    "\n",
    "Например, `int`, `list`, `dict` - это все типы. Класс и тип - одно и то же."
   ]
  },
  {
   "cell_type": "code",
   "execution_count": null,
   "metadata": {
    "tags": []
   },
   "outputs": [],
   "source": [
    "(1.5).is_integer()"
   ]
  },
  {
   "cell_type": "code",
   "execution_count": null,
   "metadata": {
    "tags": []
   },
   "outputs": [],
   "source": [
    "help(int.denominator)"
   ]
  },
  {
   "cell_type": "markdown",
   "metadata": {},
   "source": [
    "Создать класс - это описать набор переменных (атрибутов, полей, свойств) и функций (методов) для взаимодействия с этими переменными. \n",
    "\n",
    "**Note:** чтобы не вводить путаницу, мы будем использовать два основных именно для Python'а понятия: атрибут и метод. Понятие _свойство_ (property) также присутствует в Python, но как и _поле_ (field), используется больше в ООП как таковом.\n",
    "\n",
    "Создать класс - это создать новый пользовательский тип объектов, которые будут хранить информацию о чем-то и допускать тот или иной способ взаимодействия с ними."
   ]
  },
  {
   "cell_type": "markdown",
   "metadata": {},
   "source": [
    "Прежде чем создавать свои классы, обсудим еще одно важное понятие."
   ]
  },
  {
   "cell_type": "markdown",
   "metadata": {},
   "source": [
    "### Экземпляр класса"
   ]
  },
  {
   "cell_type": "markdown",
   "metadata": {},
   "source": [
    "Экземплярами класса называются просто объекты-представители этого класса. Например:"
   ]
  },
  {
   "cell_type": "code",
   "execution_count": null,
   "metadata": {
    "tags": []
   },
   "outputs": [],
   "source": [
    "L1 = [1, 2, 3]\n",
    "L2 = list('hello')"
   ]
  },
  {
   "cell_type": "code",
   "execution_count": null,
   "metadata": {
    "tags": []
   },
   "outputs": [],
   "source": [
    "type(L1)"
   ]
  },
  {
   "cell_type": "code",
   "execution_count": null,
   "metadata": {
    "tags": []
   },
   "outputs": [],
   "source": [
    "type(L2)"
   ]
  },
  {
   "cell_type": "code",
   "execution_count": null,
   "metadata": {
    "tags": []
   },
   "outputs": [],
   "source": [
    "n1 = 1+2j\n",
    "n2 = 4-5j"
   ]
  },
  {
   "cell_type": "code",
   "execution_count": null,
   "metadata": {
    "tags": []
   },
   "outputs": [],
   "source": [
    "type(n1)"
   ]
  },
  {
   "cell_type": "code",
   "execution_count": null,
   "metadata": {
    "tags": []
   },
   "outputs": [],
   "source": [
    "type(n2)"
   ]
  },
  {
   "cell_type": "markdown",
   "metadata": {},
   "source": [
    "Сами классы также являются объектами:"
   ]
  },
  {
   "cell_type": "code",
   "execution_count": null,
   "metadata": {
    "tags": []
   },
   "outputs": [],
   "source": [
    "id(list)"
   ]
  },
  {
   "cell_type": "markdown",
   "metadata": {},
   "source": [
    "Классы - вызываемые объекты, как и функции. "
   ]
  },
  {
   "cell_type": "markdown",
   "metadata": {},
   "source": [
    "Чтобы создать экземпляр какого-то класса, достаточно просто **вызвать** этот класс:"
   ]
  },
  {
   "cell_type": "code",
   "execution_count": null,
   "metadata": {
    "tags": []
   },
   "outputs": [],
   "source": [
    "list()"
   ]
  },
  {
   "cell_type": "code",
   "execution_count": null,
   "metadata": {
    "tags": []
   },
   "outputs": [],
   "source": [
    "complex()"
   ]
  },
  {
   "cell_type": "markdown",
   "metadata": {},
   "source": [
    "---\n",
    "\n",
    "Объекты класса являются экземплярами класса `type`"
   ]
  },
  {
   "cell_type": "code",
   "execution_count": null,
   "metadata": {
    "tags": []
   },
   "outputs": [],
   "source": [
    "type(list), type(int)"
   ]
  },
  {
   "cell_type": "markdown",
   "metadata": {},
   "source": [
    "`type` - метакласс, но про это поговорим в следующий раз.\n",
    "\n",
    "---"
   ]
  },
  {
   "cell_type": "markdown",
   "metadata": {},
   "source": [
    "Мы знаем, что у экземпляров одного и того же класса есть определенный набор атрибутов и методов, к которым мы обращаемся через точку. Атрибуты и методы - это просто набор переменных (`real` и `imag` у комплексных, `append` и `pop` у списков), который связан с конкретным объектом. Эти переменные, также как и любые другие, указывают на объекты:"
   ]
  },
  {
   "cell_type": "code",
   "execution_count": null,
   "metadata": {
    "tags": []
   },
   "outputs": [],
   "source": [
    "print(n1.real)\n",
    "print(n2.imag)\n",
    "\n",
    "print(L1.pop)\n",
    "print(L2.append)"
   ]
  },
  {
   "cell_type": "code",
   "execution_count": null,
   "metadata": {
    "tags": []
   },
   "outputs": [],
   "source": [
    "type(n1.real)"
   ]
  },
  {
   "cell_type": "code",
   "execution_count": null,
   "metadata": {
    "tags": []
   },
   "outputs": [],
   "source": [
    "type(L2.pop)"
   ]
  },
  {
   "cell_type": "markdown",
   "metadata": {},
   "source": [
    "Отличие от наших предыдущих переменных (например, глобальных) в том, что эти новые принадлежат опреленному объекту и мы обращаемся к ним, используя точечную нотацию, так как они лежат в других пространствах имен. "
   ]
  },
  {
   "cell_type": "markdown",
   "metadata": {},
   "source": [
    "Два факта, которые хочется выделить:\n",
    "\n",
    "- > каждый _класс_ обладает связанным с ним пространством имен\n",
    "- > каждый _экземпляр_ обладает связанным с ним пространством имен\n",
    "\n",
    "Но можно сказать короче:\n",
    "\n",
    "> каждый _объект_ обладает связанным с ним пространством имен\n",
    "\n",
    "Функция, которая позволяет узнать пространство имен объекта - `vars` (но есть нюансы)\n",
    "\n",
    "Напомню, ее напарник по этой задаче, которым мы пользовались раньше - `dir` - возвращает список имен (по сути ключей словаря), правда иногда не всех, а иногда и дополнительные, но об этом позже. "
   ]
  },
  {
   "cell_type": "code",
   "execution_count": null,
   "metadata": {},
   "outputs": [],
   "source": [
    "vars()"
   ]
  },
  {
   "cell_type": "code",
   "execution_count": null,
   "metadata": {},
   "outputs": [],
   "source": [
    "dir()"
   ]
  },
  {
   "cell_type": "code",
   "execution_count": null,
   "metadata": {},
   "outputs": [],
   "source": [
    "globals()"
   ]
  },
  {
   "cell_type": "code",
   "execution_count": null,
   "metadata": {},
   "outputs": [],
   "source": [
    "locals()"
   ]
  },
  {
   "cell_type": "markdown",
   "metadata": {},
   "source": [
    "### Объявление класса"
   ]
  },
  {
   "cell_type": "markdown",
   "metadata": {},
   "source": [
    "Инструкция создания (объявления) класса выглядит следующим образом:"
   ]
  },
  {
   "cell_type": "markdown",
   "metadata": {},
   "source": [
    "```python\n",
    "class NameClass:\n",
    "    **statement 1**\n",
    "    **statement 2**\n",
    "    ...\n",
    "```"
   ]
  },
  {
   "cell_type": "markdown",
   "metadata": {},
   "source": [
    "Никто не запрещает в качестве инструкций помещать туда **абсолютно** любые инструкции Python, но чаще всего это будут assignment statement (для атрибутов класса) и function definitions (для методов), которые добавят соответствующие имена в namespace **класса**."
   ]
  },
  {
   "cell_type": "markdown",
   "metadata": {},
   "source": [
    "В следующем примере переменные `x` и `y` называются атрибутами класса `MyFirstClass`, а функция `func` - его методом."
   ]
  },
  {
   "cell_type": "code",
   "execution_count": null,
   "metadata": {
    "tags": []
   },
   "outputs": [],
   "source": [
    "class MyFirstClass:\n",
    "    x = 'я атрибут класса'\n",
    "    y = 'я тоже атрибут класса'\n",
    "    \n",
    "    def func(self):  # про self чуть позже\n",
    "        print('вызван метод func')\n",
    "        print(self)"
   ]
  },
  {
   "cell_type": "code",
   "execution_count": null,
   "metadata": {
    "tags": []
   },
   "outputs": [],
   "source": [
    "MyFirstClass.x"
   ]
  },
  {
   "cell_type": "code",
   "execution_count": null,
   "metadata": {
    "tags": []
   },
   "outputs": [],
   "source": [
    "MyFirstClass.y"
   ]
  },
  {
   "cell_type": "code",
   "execution_count": null,
   "metadata": {
    "tags": []
   },
   "outputs": [],
   "source": [
    "MyFirstClass.func(123456)"
   ]
  },
  {
   "cell_type": "markdown",
   "metadata": {},
   "source": [
    "**Note:** для `x` и `y` могут использоваться такие названия как \"переменные уровня класса\" или \"поля класса\", так как они принадлежат самому классу."
   ]
  },
  {
   "cell_type": "markdown",
   "metadata": {},
   "source": [
    "Создадим экземпляр (их также называют _instance_) нашего класса:"
   ]
  },
  {
   "cell_type": "code",
   "execution_count": null,
   "metadata": {
    "tags": []
   },
   "outputs": [],
   "source": [
    "instance = MyFirstClass()"
   ]
  },
  {
   "cell_type": "markdown",
   "metadata": {},
   "source": [
    "У экземпляров класса **есть доступ** к атрибутам и методам класса:"
   ]
  },
  {
   "cell_type": "code",
   "execution_count": null,
   "metadata": {
    "tags": []
   },
   "outputs": [],
   "source": [
    "instance.x"
   ]
  },
  {
   "cell_type": "code",
   "execution_count": null,
   "metadata": {
    "tags": []
   },
   "outputs": [],
   "source": [
    "instance.func()"
   ]
  },
  {
   "cell_type": "markdown",
   "metadata": {},
   "source": [
    "### self"
   ]
  },
  {
   "cell_type": "markdown",
   "metadata": {},
   "source": [
    "Здесь стоит поговорить немного про `self`, ведь это первый параметр функции `func` без дефолтного значения, но в предыдущей ячейке для него как будто не был передан аргумент, при этом ошибка не произошла.\n",
    "\n",
    "Дело в том, что в Python во время вызова метода класса от его экземпляра сам экземпляр уже является первым аргументом этого метода. Другими словами следующие выражения эквивалентны:"
   ]
  },
  {
   "cell_type": "code",
   "execution_count": null,
   "metadata": {
    "tags": []
   },
   "outputs": [],
   "source": [
    "instance.func()"
   ]
  },
  {
   "cell_type": "code",
   "execution_count": null,
   "metadata": {
    "tags": []
   },
   "outputs": [],
   "source": [
    "MyFirstClass.func(instance)"
   ]
  },
  {
   "cell_type": "markdown",
   "metadata": {},
   "source": [
    "Если примеры выше не очень понятны, то посмотрите на тот же самый синтаксис, но с объектами, которые вам уже хорошо знакомы:"
   ]
  },
  {
   "cell_type": "code",
   "execution_count": null,
   "metadata": {
    "tags": []
   },
   "outputs": [],
   "source": [
    "lst = [99, 98, 1]\n",
    "lst.sort()\n",
    "lst"
   ]
  },
  {
   "cell_type": "code",
   "execution_count": null,
   "metadata": {
    "tags": []
   },
   "outputs": [],
   "source": [
    "lst = [99, 98, 1]\n",
    "list.sort(lst)\n",
    "lst"
   ]
  },
  {
   "cell_type": "markdown",
   "metadata": {},
   "source": [
    "У методов встроенных классов первым аргументом также является `self`:"
   ]
  },
  {
   "cell_type": "code",
   "execution_count": null,
   "metadata": {
    "tags": []
   },
   "outputs": [],
   "source": [
    "import inspect\n",
    "\n",
    "inspect.signature(list.sort)"
   ]
  },
  {
   "cell_type": "code",
   "execution_count": null,
   "metadata": {
    "tags": []
   },
   "outputs": [],
   "source": [
    "inspect.signature(str.upper)"
   ]
  },
  {
   "cell_type": "markdown",
   "metadata": {},
   "source": [
    "---\n",
    "\n",
    "Еще одна удачная [попытка объяснения](https://qna.habr.com/q/4847#answer_20947), что такое класс, экземпляр и self\n",
    "\n",
    "---"
   ]
  },
  {
   "cell_type": "markdown",
   "metadata": {},
   "source": [
    "**Note:** по умолчанию для методов класса первый аргумент используется как ссылка на экземпляр класса, а по pep8 для этого аргумента используется имя `self`."
   ]
  },
  {
   "cell_type": "code",
   "execution_count": null,
   "metadata": {
    "tags": []
   },
   "outputs": [],
   "source": [
    "new_instance = MyFirstClass()\n",
    "\n",
    "new_instance.func()"
   ]
  },
  {
   "cell_type": "markdown",
   "metadata": {},
   "source": [
    "Далее разберемся, зачем нам нужна такая ссылка из класса на экземпляр этого же класса."
   ]
  },
  {
   "cell_type": "markdown",
   "metadata": {},
   "source": [
    "### Атрибуты экземпляра"
   ]
  },
  {
   "cell_type": "markdown",
   "metadata": {},
   "source": [
    "**Note:** их правильно будет называть полями - fields."
   ]
  },
  {
   "cell_type": "code",
   "execution_count": null,
   "metadata": {
    "tags": []
   },
   "outputs": [],
   "source": [
    "class Figure:\n",
    "    edges = []\n",
    "    color = None\n",
    "        \n",
    "    def calculate_perimetr(self):\n",
    "        return sum(edges)\n",
    "    \n",
    "    def append_edge(self, new_edge):\n",
    "        edges.append(new_edge)\n",
    "        \n",
    "triangle = Figure()\n",
    "triangle.append_edge(3)\n",
    "triangle.append_edge(4)\n",
    "triangle.append_edge(5)"
   ]
  },
  {
   "cell_type": "markdown",
   "metadata": {},
   "source": [
    "Дело в том, что обращаться к атрибутам класса из метода просто так не получится. Можно (но обычно не нужно) использовать имя класса:"
   ]
  },
  {
   "cell_type": "code",
   "execution_count": null,
   "metadata": {
    "tags": []
   },
   "outputs": [],
   "source": [
    "class Figure:\n",
    "    edges = []\n",
    "        \n",
    "    def calculate_perimetr(self):\n",
    "        return sum(Figure.edges)  # добавили Figure\n",
    "    \n",
    "    def append_edge(self, new_edge):\n",
    "        Figure.edges.append(new_edge)  # добавили Figure\n",
    "        \n",
    "triangle = Figure()\n",
    "triangle.append_edge(3)\n",
    "triangle.append_edge(4)\n",
    "triangle.append_edge(5)"
   ]
  },
  {
   "cell_type": "code",
   "execution_count": null,
   "metadata": {
    "tags": []
   },
   "outputs": [],
   "source": [
    "triangle.calculate_perimetr()"
   ]
  },
  {
   "cell_type": "markdown",
   "metadata": {},
   "source": [
    "Но если мы создадим теперь новый экземпляр, то у него уже сразу будут заданы стороны:"
   ]
  },
  {
   "cell_type": "code",
   "execution_count": null,
   "metadata": {
    "tags": []
   },
   "outputs": [],
   "source": [
    "new_triangle = Figure()\n",
    "\n",
    "new_triangle.edges"
   ]
  },
  {
   "cell_type": "code",
   "execution_count": null,
   "metadata": {
    "tags": []
   },
   "outputs": [],
   "source": [
    "new_triangle.edges is triangle.edges"
   ]
  },
  {
   "cell_type": "markdown",
   "metadata": {},
   "source": [
    "Во время обращения к имени атрибута интерпретатор начинает поиск этого самого имени, выполняя обход по пространствам имен (аналогично правилу LEGB, но теперь вложенность другая).  \n",
    "\n",
    "**Note:** сначала имя ищется в пространстве имен самого экземпляра, затем у его класса, потом поиск продолжается по цепочке у родительских классов (снова отсылка к последней строчке в `help(dir)`), пока не встретит первое совпадение.\n",
    "\n",
    "На родительские классы мы посмотрим, когда будем изучать наследование."
   ]
  },
  {
   "cell_type": "markdown",
   "metadata": {},
   "source": [
    "Если ни в одном из пространств имя найдено не будет, то выбрасывается ошибка `AttributeError`:"
   ]
  },
  {
   "cell_type": "code",
   "execution_count": null,
   "metadata": {
    "tags": []
   },
   "outputs": [],
   "source": [
    "new_triangle.this_attr_does_not_exist"
   ]
  },
  {
   "cell_type": "markdown",
   "metadata": {},
   "source": [
    "В случае вызова несуществующего метода ошибка будет та же самая (ведь метод это атрибут, который является функцией...):"
   ]
  },
  {
   "cell_type": "code",
   "execution_count": null,
   "metadata": {
    "tags": []
   },
   "outputs": [],
   "source": [
    "new_triangle.this_method_does_not_exist()"
   ]
  },
  {
   "cell_type": "markdown",
   "metadata": {
    "tags": []
   },
   "source": [
    "Атрибуты экземпляра класса должны хранить информацию о самом классе, а не о его экземплярах. \n",
    "\n",
    "То есть в нашем классе `Figure` нам нужен атрибут `edges`, но чтобы у каждого экземпляра он был свой собственный. Например, наши комплексные числа `n1` и `n2` обладают атрибутами с одинаковым именем, но каждый из них ссылается на свой объект:"
   ]
  },
  {
   "cell_type": "code",
   "execution_count": null,
   "metadata": {
    "tags": []
   },
   "outputs": [],
   "source": [
    "n1.real"
   ]
  },
  {
   "cell_type": "code",
   "execution_count": null,
   "metadata": {
    "tags": []
   },
   "outputs": [],
   "source": [
    "n2.real"
   ]
  },
  {
   "cell_type": "markdown",
   "metadata": {},
   "source": [
    "Мы хотим сделать то же самое :)"
   ]
  },
  {
   "cell_type": "markdown",
   "metadata": {},
   "source": [
    "### `__init__`"
   ]
  },
  {
   "cell_type": "markdown",
   "metadata": {},
   "source": [
    "Метод `__init__` является специальным методом, который запускается во время создания экземпляра класса и используется для инициализации атрибутов экземпляра. Аргументы для этого метода передаются в вызов самого класса: `Figure(3, 4, 5)`\n",
    "\n",
    "Вам может быть знакомо понятие [конструктор](https://en.wikipedia.org/wiki/Constructor_(object-oriented_programming) из других языков программирования - метод, который создает экземпляр и добавляет ему атрибуты. Так вот в Python метод `__init__` является второй частью конструктора. Он **не создает** сам объект, а лишь добавляет атрибуты этому объекту. \n",
    "\n",
    "Конечно никто не запрещает поместить в него и другие инструкции, например, наш любимый `print`"
   ]
  },
  {
   "cell_type": "code",
   "execution_count": null,
   "metadata": {
    "tags": []
   },
   "outputs": [],
   "source": [
    "class Figure:\n",
    "    \n",
    "    def __init__(self, *args):\n",
    "        print('запущен инит')\n",
    "        self.edges = list(args)\n",
    "    \n",
    "    def calculate_perimetr(self):\n",
    "        return sum(self.edges)\n",
    "    \n",
    "    def append_edge(self, new_edge):\n",
    "        self.edges.append(new_edge)\n",
    "        \n",
    "triangle = Figure(3, 4, 5)   # запущен инит\n",
    "square = Figure(4, 4, 4, 4)  # запущен инит"
   ]
  },
  {
   "cell_type": "code",
   "execution_count": null,
   "metadata": {
    "tags": []
   },
   "outputs": [],
   "source": [
    "triangle.edges"
   ]
  },
  {
   "cell_type": "code",
   "execution_count": null,
   "metadata": {
    "tags": []
   },
   "outputs": [],
   "source": [
    "triangle.calculate_perimetr()"
   ]
  },
  {
   "cell_type": "code",
   "execution_count": null,
   "metadata": {
    "tags": []
   },
   "outputs": [],
   "source": [
    "square.edges"
   ]
  },
  {
   "cell_type": "code",
   "execution_count": null,
   "metadata": {
    "tags": []
   },
   "outputs": [],
   "source": [
    "square.calculate_perimetr()"
   ]
  },
  {
   "cell_type": "markdown",
   "metadata": {},
   "source": [
    "## Основные принципы ООП"
   ]
  },
  {
   "cell_type": "markdown",
   "metadata": {},
   "source": [
    "В такой парадигме программирования как ООП есть набор базовых принципов, которые называют:\n",
    "- инкапсуляция\n",
    "- полиморфизм\n",
    "- наследование"
   ]
  },
  {
   "cell_type": "markdown",
   "metadata": {},
   "source": [
    "Мы не будем разбирать их досконально, но дать определения придется, т.к.:\n",
    "\n",
    "1. В Python **все является объектом**, и это все же объектно-ориентированный язык (хотя честнее будет сказать, что это язык, поддерживающий ООП).\n",
    "2. Все объекты в Python выстраиваются в четкую иерархическую структуру на основе **наследования**. Эта структура может рассказать о свойствах каждого объекта.\n",
    "3. В имени метода/атрибута/объекта нередко встречается символ `_`, который связан с приватностью, которая в свою очередь связана с **инкапсуляцией**.\n",
    "4. **Полиморфизм** встречается в Python... да в принципе везде.\n",
    "5. С ростом опыта при работе с пакетами питона (и другими ЯП) вы все чаще сможете замечать концепции и паттерны проектирования, которые использовались при их написании, что также может облегчить работу с ними."
   ]
  },
  {
   "cell_type": "markdown",
   "metadata": {},
   "source": [
    "Итак:\n",
    "\n",
    "- **Инкапсуляция**: данные и методы для работы с этими данными собираются внутри одного класса, а также скрываются от остального кода.\n",
    "- **Наследование**: создание нового класса (потомка) на основе уже существующего (родителя). При этом наследуются его атрибуты и методы."
   ]
  },
  {
   "cell_type": "markdown",
   "metadata": {},
   "source": [
    "А вот дать определение следующему термину сложно:\n",
    "\n",
    "- **Полиморфизм**: начну с перевода греческого слова пολύμορφος - \"много форм\". На этом и закончим...\n",
    "\n",
    "Bjarne Stroustrup (создатель С++) дает следующее [определение](https://www.stroustrup.com/glossary.html#Gpolymorphism): \"в объектно-ориентированном программировании полиморфизм - это предоставление единого интерфейса сущностям разных типов\"... можете смотреть на это так, что объекты разных типов могут обладать одинаковыми именами методов, но иметь разные реализации этих самых методов... например, есть `list.count`, а есть `str.count`; оператор `+` (который на самом деле является синтаксическим сахаром для метода) может складывать строки, а может складывать числа... \n",
    "\n",
    "Еще хочу дать такое определение: полиморфной является сущность, которая может принимать (в значении быть равной, например, переменная) или обрабатывать (например, функция) объекты различных типов. Если вы видите, что одно и то же используется или работает по-разному, то оно полиморфно. Надеюсь теперь будет интуитивно более понятно, почему можно сказать, что в Python очень много полиморфизма."
   ]
  },
  {
   "cell_type": "markdown",
   "metadata": {
    "id": "svmbSvN18tvy"
   },
   "source": [
    "## Приватность и символ нижнего подчеркивания"
   ]
  },
  {
   "cell_type": "markdown",
   "metadata": {},
   "source": [
    "Символ `_` в каком-либо имени переменной используется в различных случаях:\n",
    "\n",
    "- добавляют в конце переменной, чтобы, например, создать переменную, но не затереть уже существующее имя: `max` и `max_`\n",
    "- для обозначения несущественных переменных: когда имя переменной нужно по синтаксису, но сам объект не имеет значения"
   ]
  },
  {
   "cell_type": "code",
   "execution_count": null,
   "metadata": {},
   "outputs": [],
   "source": [
    "for _ in range(3):\n",
    "    print('hello')\n",
    "    \n",
    "a, _, _, d = 'hello my beautiful world'.split()\n",
    "a, d"
   ]
  },
  {
   "cell_type": "markdown",
   "metadata": {},
   "source": [
    "- для выделения статуса приватности переменной."
   ]
  },
  {
   "cell_type": "markdown",
   "metadata": {},
   "source": [
    "[9.6 Private Variables](https://docs.python.org/3/tutorial/classes.html#private-variables)"
   ]
  },
  {
   "cell_type": "markdown",
   "metadata": {},
   "source": [
    "По приватности выделяют три категории атрибутов: _public_, _protected_ и _private_:\n",
    "\n",
    "- общедоступный\n",
    "- защищенный (используется внутри класса и в его наследниках)\n",
    "- приватный (только внутри самого класса)"
   ]
  },
  {
   "cell_type": "markdown",
   "metadata": {},
   "source": [
    "В Python разделение происходит на уровне соглашения pep8: есть специальные правила именования атрибутов с использованием нижнего подчеркивания, чтобы обозначить к какой категориии они относятся.\n",
    "\n",
    "Если нижнее подчеркивания используется **в начале** имени:\n",
    "- один раз, то этот атрибут не должен вами использоваться. Из троицы выше мы можем назвать такой атрибут protected. Правда это работает лишь на уровне соглашения между всеми. То есть если прям захочется, то обратиться к нему вы сможете :)\n",
    "- два раза, то мы бы назвали такой атрибут private, но... обратиться к нему все равно можно!\n",
    "- без нижнего подчеркивания в начале: public\n",
    "\n",
    "**Note:** специальные атрибуты и методы также начинаются с двойного нижнего подчеркивания `__` (`__doc__`, `__name__`), но они и заканчиваются `__`. Эти имена на то и специальные - интерпретатор обращается к ним, когда исполняет какую-либо инструкцию."
   ]
  },
  {
   "cell_type": "markdown",
   "metadata": {},
   "source": [
    "Создадим класс с тремя атрибутами и посмотрим, что будет происходить:"
   ]
  },
  {
   "cell_type": "code",
   "execution_count": null,
   "metadata": {
    "id": "_iuASScu8tvy"
   },
   "outputs": [],
   "source": [
    "class PrivateData:\n",
    "    public = 0\n",
    "    _protected = 1\n",
    "    __private = 2"
   ]
  },
  {
   "cell_type": "code",
   "execution_count": null,
   "metadata": {
    "colab": {
     "base_uri": "https://localhost:8080/",
     "height": 222
    },
    "id": "mRYfzczI8tvy",
    "outputId": "1fd3ef31-a9d7-43bc-9ae4-e184124c2a87"
   },
   "outputs": [],
   "source": [
    "instance = PrivateData()\n",
    "print(instance.public)"
   ]
  },
  {
   "cell_type": "code",
   "execution_count": null,
   "metadata": {
    "colab": {
     "base_uri": "https://localhost:8080/",
     "height": 222
    },
    "id": "mRYfzczI8tvy",
    "outputId": "1fd3ef31-a9d7-43bc-9ae4-e184124c2a87"
   },
   "outputs": [],
   "source": [
    "# Еще раз: на уровне соглашения pep8 protected атрибуты не должны использоваться \n",
    "# вами в коде. Они нужны для внутренней работы класса.\n",
    "# Но обратиться к ним мы все равно можем:\n",
    "print(instance._protected)"
   ]
  },
  {
   "cell_type": "markdown",
   "metadata": {},
   "source": [
    "А вот с третьим атрибутом уже интереснее:"
   ]
  },
  {
   "cell_type": "code",
   "execution_count": null,
   "metadata": {
    "colab": {
     "base_uri": "https://localhost:8080/",
     "height": 222
    },
    "id": "mRYfzczI8tvy",
    "outputId": "1fd3ef31-a9d7-43bc-9ae4-e184124c2a87"
   },
   "outputs": [],
   "source": [
    "print(instance.__private)"
   ]
  },
  {
   "cell_type": "markdown",
   "metadata": {},
   "source": [
    "Но никаким приватным он на самом деле не стал. Просто интерпретатор переименовывает подобные атрибуты по следующему шаблону: `_ИмяКласса__имяатрибута`. Можно убедиться в этом следующей ячейкой:"
   ]
  },
  {
   "cell_type": "code",
   "execution_count": null,
   "metadata": {},
   "outputs": [],
   "source": [
    "'_PrivateData__private' in dir(instance)"
   ]
  },
  {
   "cell_type": "markdown",
   "metadata": {},
   "source": [
    "Из самого класса обратиться также получится:"
   ]
  },
  {
   "cell_type": "code",
   "execution_count": null,
   "metadata": {},
   "outputs": [],
   "source": [
    "PrivateData._PrivateData__private"
   ]
  },
  {
   "cell_type": "markdown",
   "metadata": {},
   "source": [
    "Подрезюмируем. Использовать в своем коде имя атрибута напрямую в Python:\n",
    "- **запрещено**, если оно начинается с одного нижнего подчеркивания \n",
    "- **строго запрещено** - если с двух\n",
    "- если очень хочется, то можно"
   ]
  },
  {
   "cell_type": "markdown",
   "metadata": {},
   "source": [
    "**Note:** на самом деле в Python приватность атрибутов обеспечивается другими средствами."
   ]
  },
  {
   "cell_type": "markdown",
   "metadata": {},
   "source": [
    "### getter и setter"
   ]
  },
  {
   "cell_type": "markdown",
   "metadata": {},
   "source": [
    "Для работы с атрибутами класса принято писать методы, которые условно называют getter'ы (для получения значения атрибута) и setter'ы (для изменения значения атрибута). Для примера продолжим модифицировать наш класс фигуры:"
   ]
  },
  {
   "cell_type": "code",
   "execution_count": null,
   "metadata": {},
   "outputs": [],
   "source": [
    "class Figure:\n",
    "    \n",
    "    def __init__(self, edges, color):\n",
    "        self._edges = edges\n",
    "        self._color = color\n",
    "        self._perimetr = sum(self._edges)\n",
    "        \n",
    "    def set_color(self, new_color):    # пример setter'а\n",
    "        self._color = new_color\n",
    "        \n",
    "    def get_color(self):               # пример getter'а\n",
    "        return self._color\n",
    "    \n",
    "    def get_length_of_perimetr(self):  # пример getter'а\n",
    "        return self._perimetr\n",
    "        \n",
    "        \n",
    "triangle = Figure([3, 4, 5], 'green')\n",
    "square = Figure([5, 5, 5, 5], 'red')"
   ]
  },
  {
   "cell_type": "code",
   "execution_count": null,
   "metadata": {},
   "outputs": [],
   "source": [
    "Figure.get_color = 42"
   ]
  },
  {
   "cell_type": "code",
   "execution_count": null,
   "metadata": {
    "tags": []
   },
   "outputs": [],
   "source": [
    "square.get_color()"
   ]
  },
  {
   "cell_type": "code",
   "execution_count": null,
   "metadata": {
    "tags": []
   },
   "outputs": [],
   "source": [
    "square.get_length_of_perimetr()"
   ]
  },
  {
   "cell_type": "code",
   "execution_count": null,
   "metadata": {
    "tags": []
   },
   "outputs": [],
   "source": [
    "triangle.get_color()"
   ]
  },
  {
   "cell_type": "code",
   "execution_count": null,
   "metadata": {
    "tags": []
   },
   "outputs": [],
   "source": [
    "triangle.set_color('blue')\n",
    "triangle.get_color()"
   ]
  },
  {
   "cell_type": "markdown",
   "metadata": {},
   "source": [
    "## Некоторые специальные атрибуты"
   ]
  },
  {
   "cell_type": "markdown",
   "metadata": {},
   "source": [
    "Перечислим специальные атрибуты **пользовательских классов**, согласно [документации](https://docs.python.org/3/reference/datamodel.html#custom-classes):\n",
    "\n"
   ]
  },
  {
   "cell_type": "markdown",
   "metadata": {},
   "source": [
    "- `__name__` - имя класса\n",
    "- `__module__` - имя модуля, в котором был определен класс\n",
    "- `__dict__` - словарь, содержащий пространство имен класса\n",
    "- `__bases__` - кортеж, содержащий базовые классы в порядке их появления в списке базовых классов\n",
    "- `__doc__` - строка документации класса или `None`, если не определено\n",
    "- `__annotations__` - словарь, содержащий аннотации к переменным (если есть)\n",
    "\n",
    "New in version 3.12:\n",
    "\n",
    "- `__type_params__` - кортеж, содержащий типы параметров [generic](https://habr.com/ru/companies/lamoda/articles/435988/) класса."
   ]
  },
  {
   "cell_type": "markdown",
   "metadata": {},
   "source": [
    "Аналогично приведем атрибуты [инстансов](https://docs.python.org/3.12/reference/datamodel.html#id3):"
   ]
  },
  {
   "cell_type": "markdown",
   "metadata": {},
   "source": [
    "- `__dict__` - словарь writable атрибутов\n",
    "- `__class__` - класс экземпляра"
   ]
  },
  {
   "cell_type": "markdown",
   "metadata": {},
   "source": [
    "**Упражнение:** на основе указанных атрибутов придумайте способ получить строку с именем класса экземпляра `triangle`:"
   ]
  },
  {
   "cell_type": "code",
   "execution_count": null,
   "metadata": {
    "tags": []
   },
   "outputs": [],
   "source": [
    "# your code\n",
    "triangle.__class__.__name__"
   ]
  },
  {
   "cell_type": "markdown",
   "metadata": {},
   "source": [
    "**Note:** операции присваивания и удаления атрибутов обновляют словарь экземпляра, но **не затрагивают словарь класса**. \n",
    "\n",
    "На процесс изменения словаря экземпляра можно повлиять, определив у класса специальные методы `__setattr__()` или `__delattr__()`, которые мы рассмотрим на следующем занятии."
   ]
  },
  {
   "cell_type": "markdown",
   "metadata": {},
   "source": [
    "Наконец перечислим атрибуты [методов экземпляра](https://docs.python.org/3/reference/datamodel.html#instance-methods) класса или bound-методов:\n",
    "\n",
    "- `method.__self__`- Refers to the class instance object to which the method is bound\n",
    "\n",
    "- `method.__func__`- Refers to the original function object\n",
    "\n",
    "- `method.__doc__` - The method’s documentation (same as `method.__func__.__doc__`). A string if the original function had a docstring, else None.\n",
    "\n",
    "- `method.__name__`- The name of the method (same as `method.__func__.__name__`)\n",
    "\n",
    "- `method.__module__`- The name of the module the method was defined in, or None if unavailable."
   ]
  },
  {
   "cell_type": "code",
   "execution_count": null,
   "metadata": {},
   "outputs": [],
   "source": [
    "class Figure:\n",
    "    pass"
   ]
  },
  {
   "cell_type": "code",
   "execution_count": null,
   "metadata": {},
   "outputs": [],
   "source": [
    "id(type(triangle))"
   ]
  },
  {
   "cell_type": "code",
   "execution_count": null,
   "metadata": {},
   "outputs": [],
   "source": [
    "id(triangle.__class__)"
   ]
  },
  {
   "cell_type": "code",
   "execution_count": null,
   "metadata": {},
   "outputs": [],
   "source": [
    "triangle.__class__([], None)"
   ]
  },
  {
   "cell_type": "code",
   "execution_count": null,
   "metadata": {},
   "outputs": [],
   "source": [
    "Figure()"
   ]
  },
  {
   "cell_type": "code",
   "execution_count": null,
   "metadata": {},
   "outputs": [],
   "source": [
    "id(Figure)"
   ]
  },
  {
   "cell_type": "code",
   "execution_count": null,
   "metadata": {},
   "outputs": [],
   "source": [
    "print = 42"
   ]
  },
  {
   "cell_type": "code",
   "execution_count": null,
   "metadata": {},
   "outputs": [],
   "source": [
    "triangle.__class__ = Figure"
   ]
  },
  {
   "cell_type": "code",
   "execution_count": null,
   "metadata": {},
   "outputs": [],
   "source": [
    "type(triangle)()"
   ]
  },
  {
   "cell_type": "code",
   "execution_count": null,
   "metadata": {},
   "outputs": [],
   "source": [
    "triangle.__dict__"
   ]
  },
  {
   "cell_type": "code",
   "execution_count": null,
   "metadata": {},
   "outputs": [],
   "source": [
    "print()"
   ]
  },
  {
   "cell_type": "markdown",
   "metadata": {},
   "source": [
    "Документация:\n",
    "\n",
    "- [Tutorial 9. Classes](https://docs.python.org/3/tutorial/classes.html)\n",
    "- [Data Model 3.2.8.2. Instance methods](https://docs.python.org/3/reference/datamodel.html#instance-methods)\n",
    "- [Data Model 3.2.8.7 - 3.2.8.9](https://docs.python.org/3/reference/datamodel.html#built-in-methods)\n",
    "- [Data Model 3.2.10 Custom classes](https://docs.python.org/3/reference/datamodel.html#custom-classes)\n",
    "- [Data Model 3.2.11 Class instances](https://docs.python.org/3/reference/datamodel.html#id3)\n",
    "- [Built-In Types: Special Attributes](https://docs.python.org/3/library/stdtypes.html#special-attributes)\n"
   ]
  },
  {
   "cell_type": "code",
   "execution_count": null,
   "metadata": {},
   "outputs": [],
   "source": []
  }
 ],
 "metadata": {
  "colab": {
   "provenance": []
  },
  "kernelspec": {
   "display_name": "Python [conda env:crs_env42]",
   "language": "python",
   "name": "conda-env-crs_env42-py"
  },
  "language_info": {
   "codemirror_mode": {
    "name": "ipython",
    "version": 3
   },
   "file_extension": ".py",
   "mimetype": "text/x-python",
   "name": "python",
   "nbconvert_exporter": "python",
   "pygments_lexer": "ipython3",
   "version": "3.11.6"
  }
 },
 "nbformat": 4,
 "nbformat_minor": 4
}
