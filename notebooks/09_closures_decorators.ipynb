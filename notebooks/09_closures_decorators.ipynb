{
 "cells": [
  {
   "cell_type": "markdown",
   "metadata": {
    "id": "J5smv7vyg6VO"
   },
   "source": [
    "# Замыкания (Closures)"
   ]
  },
  {
   "cell_type": "markdown",
   "metadata": {
    "id": "g2yyXNBZm-Fg"
   },
   "source": [
    ">In computer programming languages, a closure is a function together with a referencing environment of that function. A closure function is any function that uses a variable that is defined in an environment (or scope) that is external to that function, and is accessible within the function when invoked from a scope in which that free variable is not defined.\n",
    "\n",
    "**Замыкание** (closure) — функция, в теле которой присутствуют ссылки на переменные, объявленные вне тела этой функции в окружающем коде и не являющиеся ее параметрами. Представьте коробку.  Внутри нее - функция. Но у этой функции есть доступ к содержимому другой, внешней коробки - к её переменным."
   ]
  },
  {
   "cell_type": "markdown",
   "metadata": {
    "id": "Efj7JzKY_dRW"
   },
   "source": [
    "$$f(x) = a x^2 + 2x +1$$\n",
    "\n",
    "$a$ не определяется внутри функции $f(x)$, но используется при вычислении"
   ]
  },
  {
   "cell_type": "code",
   "execution_count": 1,
   "metadata": {
    "id": "NS4jTDWI_-ia",
    "tags": []
   },
   "outputs": [],
   "source": [
    "a = 1\n",
    "\n",
    "def f(x):\n",
    "    return a * x ** 2 + 2 * x + 1"
   ]
  },
  {
   "cell_type": "code",
   "execution_count": 2,
   "metadata": {
    "colab": {
     "base_uri": "https://localhost:8080/"
    },
    "id": "cCIYrxpyAC2d",
    "outputId": "1e17d160-b47b-4f23-f5df-3d08cbf3d256",
    "tags": []
   },
   "outputs": [
    {
     "data": {
      "text/plain": [
       "9"
      ]
     },
     "execution_count": 2,
     "metadata": {},
     "output_type": "execute_result"
    }
   ],
   "source": [
    "f(2)"
   ]
  },
  {
   "cell_type": "markdown",
   "metadata": {
    "id": "qkKVH30q0JhQ"
   },
   "source": [
    "Пример использования замыканий"
   ]
  },
  {
   "cell_type": "code",
   "execution_count": 3,
   "metadata": {
    "colab": {
     "base_uri": "https://localhost:8080/"
    },
    "id": "TSySrj8n0GNI",
    "outputId": "0556e2c9-dd1b-4558-9a8a-bf5d4d94d8fb",
    "tags": []
   },
   "outputs": [
    {
     "name": "stdout",
     "output_type": "stream",
     "text": [
      "7\n",
      "13\n"
     ]
    }
   ],
   "source": [
    "def outer_function(x):\n",
    "    \"\"\"Внешняя функция, создающая замыкание.\"\"\"\n",
    "\n",
    "    def inner_function(y):\n",
    "        \"\"\"Внутренняя функция, использующая переменную из внешней функции.\"\"\"\n",
    "        return x + y\n",
    "\n",
    "    return inner_function\n",
    "\n",
    "# Создание замыкания с x = 5\n",
    "closure_1 = outer_function(5)\n",
    "\n",
    "# Создание замыкания с x = 10\n",
    "closure_2 = outer_function(10)\n",
    "\n",
    "# Вызов замыканий с разными значениями y\n",
    "print(closure_1(2))\n",
    "print(closure_2(3))"
   ]
  },
  {
   "cell_type": "markdown",
   "metadata": {
    "id": "4lrOuGHh_ciG"
   },
   "source": [
    "Посмотрим на примере почему важны замыкания. Хотим создать список функций, которые домножают аргумент-число на множитель:"
   ]
  },
  {
   "cell_type": "code",
   "execution_count": 4,
   "metadata": {
    "id": "q39rxe-aDN9b",
    "tags": []
   },
   "outputs": [],
   "source": [
    "multipliers = []\n",
    "\n",
    "for m in range(5):\n",
    "    multipliers.append(lambda x: x * m)"
   ]
  },
  {
   "cell_type": "code",
   "execution_count": 6,
   "metadata": {
    "colab": {
     "base_uri": "https://localhost:8080/"
    },
    "id": "dXk94vaWDO1m",
    "outputId": "4e124d5c-c0b5-4264-d321-8bfae62a0470",
    "tags": []
   },
   "outputs": [
    {
     "name": "stdout",
     "output_type": "stream",
     "text": [
      "m = 4\n"
     ]
    }
   ],
   "source": [
    "print('m =', m)"
   ]
  },
  {
   "cell_type": "code",
   "execution_count": 5,
   "metadata": {
    "colab": {
     "base_uri": "https://localhost:8080/"
    },
    "id": "DG-v5dDtg6VO",
    "outputId": "f01f4f39-0d49-43ef-e4b1-c97267f34ace",
    "tags": []
   },
   "outputs": [
    {
     "data": {
      "text/plain": [
       "[20, 20, 20, 20, 20]"
      ]
     },
     "execution_count": 5,
     "metadata": {},
     "output_type": "execute_result"
    }
   ],
   "source": [
    "[multipliers[i](5) for i in range(5)]"
   ]
  },
  {
   "cell_type": "code",
   "execution_count": 7,
   "metadata": {
    "colab": {
     "base_uri": "https://localhost:8080/"
    },
    "id": "U7UaKF5VClgg",
    "outputId": "ad4b1abe-870e-4ab7-ec13-ad176ae733d5",
    "tags": []
   },
   "outputs": [
    {
     "data": {
      "text/plain": [
       "<function __main__.<lambda>(x)>"
      ]
     },
     "execution_count": 7,
     "metadata": {},
     "output_type": "execute_result"
    }
   ],
   "source": [
    "multipliers[0]"
   ]
  },
  {
   "cell_type": "code",
   "execution_count": 8,
   "metadata": {
    "colab": {
     "base_uri": "https://localhost:8080/"
    },
    "id": "MRiTu_qFCof8",
    "outputId": "2ca97299-bda0-4d39-ff89-515cd0292ad1",
    "tags": []
   },
   "outputs": [
    {
     "data": {
      "text/plain": [
       "20"
      ]
     },
     "execution_count": 8,
     "metadata": {},
     "output_type": "execute_result"
    }
   ],
   "source": [
    "multipliers[0](5)"
   ]
  },
  {
   "cell_type": "markdown",
   "metadata": {
    "id": "pUGfrALGoGqW"
   },
   "source": [
    "Почему получаем `[20, 20, 20, 20, 20]`, а не `[0, 5, 10, 15, 20]`?\n",
    "\n",
    "В наших лямбда-функциях нет объявления переменной `m`, поэтому интерпретатор ищет (и находит) переменную в глобальной области видимости. Поэтому при вызове наших анонимных функций будет использоваться глобальная переменная `m`, которая может поменяться между созданием функции и вызова функции. В итоге все наши лямбда-функции ссылаются на одно и ту же переменную `m` - глобальную переменную.\n",
    "\n",
    "Поэтому если мы поменяем переменную `m`, то поменяется и поведение наших функций:"
   ]
  },
  {
   "cell_type": "code",
   "execution_count": 9,
   "metadata": {
    "colab": {
     "base_uri": "https://localhost:8080/"
    },
    "id": "bqJX8GhDpudb",
    "outputId": "fafe8ef1-1e07-4478-b687-4620e09810e0",
    "tags": []
   },
   "outputs": [
    {
     "name": "stdout",
     "output_type": "stream",
     "text": [
      "[0, 0, 0, 0, 0]\n"
     ]
    }
   ],
   "source": [
    "m = 0\n",
    "\n",
    "print([multipliers[i](5) for i in range(5)])"
   ]
  },
  {
   "cell_type": "code",
   "execution_count": 10,
   "metadata": {
    "colab": {
     "base_uri": "https://localhost:8080/"
    },
    "id": "vs4Pp9FyCXPS",
    "outputId": "dc5132b7-7c0a-41ac-b5f3-b35c53f09271",
    "tags": []
   },
   "outputs": [
    {
     "data": {
      "text/plain": [
       "<function __main__.<lambda>(x)>"
      ]
     },
     "execution_count": 10,
     "metadata": {},
     "output_type": "execute_result"
    }
   ],
   "source": [
    "multipliers[0]"
   ]
  },
  {
   "cell_type": "markdown",
   "metadata": {
    "id": "Pj_fo1BXfZcL"
   },
   "source": [
    "По сути, это эквивалентно следующему примеру:"
   ]
  },
  {
   "cell_type": "code",
   "execution_count": 11,
   "metadata": {
    "colab": {
     "base_uri": "https://localhost:8080/"
    },
    "id": "9XUTIRcS0ZyA",
    "outputId": "590265ab-934f-4867-bb64-872f9486894e",
    "tags": []
   },
   "outputs": [
    {
     "name": "stdout",
     "output_type": "stream",
     "text": [
      "[25, 25, 25]\n"
     ]
    }
   ],
   "source": [
    "def fn1(x):\n",
    "    return m * x\n",
    "\n",
    "def fn2(x):\n",
    "    return m * x\n",
    "\n",
    "def fn3(x):\n",
    "    return m * x\n",
    "\n",
    "multipliers = [fn1, fn2, fn3]\n",
    "\n",
    "m = 5\n",
    "\n",
    "print([multipliers[i](5) for i in range(3)])"
   ]
  },
  {
   "cell_type": "code",
   "execution_count": null,
   "metadata": {
    "colab": {
     "base_uri": "https://localhost:8080/"
    },
    "id": "hF-_LMw3CQfr",
    "outputId": "900afeae-3b89-418a-8f17-2371155ab6bb"
   },
   "outputs": [],
   "source": [
    "multipliers[0]"
   ]
  },
  {
   "cell_type": "markdown",
   "metadata": {
    "id": "8X3j28y6p4L2"
   },
   "source": [
    "Рассмотрим это на более простом примере:"
   ]
  },
  {
   "cell_type": "code",
   "execution_count": null,
   "metadata": {
    "id": "jEfmQXcbvTJ-"
   },
   "outputs": [],
   "source": [
    "def function(a, b):\n",
    "    return NAME, a, b"
   ]
  },
  {
   "cell_type": "code",
   "execution_count": null,
   "metadata": {
    "colab": {
     "base_uri": "https://localhost:8080/",
     "height": 256
    },
    "id": "4dww7GES1us_",
    "outputId": "9afc381e-7bdc-4614-8303-92d42ea4538b"
   },
   "outputs": [],
   "source": [
    "#del NAME\n",
    "\n",
    "function(1, 2)"
   ]
  },
  {
   "cell_type": "code",
   "execution_count": null,
   "metadata": {
    "colab": {
     "base_uri": "https://localhost:8080/"
    },
    "id": "hvC2MgOJvgsQ",
    "outputId": "14e12cac-f200-465f-945a-b90eff2bbdf9"
   },
   "outputs": [],
   "source": [
    "NAME = 'Alice'\n",
    "function(1, 2)"
   ]
  },
  {
   "cell_type": "code",
   "execution_count": null,
   "metadata": {
    "colab": {
     "base_uri": "https://localhost:8080/"
    },
    "id": "AJ0U8aCeEwAC",
    "outputId": "8fdca0ca-bddc-4fee-ead0-28aa363f0e42"
   },
   "outputs": [],
   "source": [
    "NAME = 'Bob'\n",
    "function(1, 2)"
   ]
  },
  {
   "cell_type": "markdown",
   "metadata": {
    "id": "M70QCUdcp65u"
   },
   "source": [
    "Чтобы использовать переменные, которые определены вне функции, но хранить их не в глобальной области видимости, удобно использовать следующую конструкцию:"
   ]
  },
  {
   "cell_type": "code",
   "execution_count": 12,
   "metadata": {
    "id": "aQGEDuqZFFRs",
    "tags": []
   },
   "outputs": [],
   "source": [
    "def foo():\n",
    "    #x = 3\n",
    "\n",
    "    def bar():\n",
    "        print(x)\n",
    "\n",
    "    x = 5\n",
    "    return bar"
   ]
  },
  {
   "cell_type": "code",
   "execution_count": 13,
   "metadata": {
    "colab": {
     "base_uri": "https://localhost:8080/"
    },
    "id": "vK2hJevEFd7I",
    "outputId": "699ac086-d265-40b1-8d0f-ebabad16dcd3",
    "tags": []
   },
   "outputs": [
    {
     "name": "stdout",
     "output_type": "stream",
     "text": [
      "5\n"
     ]
    }
   ],
   "source": [
    "bar_global = foo()\n",
    "bar_global()"
   ]
  },
  {
   "cell_type": "code",
   "execution_count": 14,
   "metadata": {
    "colab": {
     "base_uri": "https://localhost:8080/"
    },
    "id": "tM4RtNzNg6VO",
    "outputId": "f6d0295d-9c75-4a9b-9718-11774437ceb7",
    "tags": []
   },
   "outputs": [
    {
     "name": "stdout",
     "output_type": "stream",
     "text": [
      "5\n",
      "x = 9\n"
     ]
    }
   ],
   "source": [
    "x = 9\n",
    "bar_global()\n",
    "print('x =', x)"
   ]
  },
  {
   "cell_type": "markdown",
   "metadata": {
    "id": "dQtn448-vSGx"
   },
   "source": [
    "Теперь функция bar ссылается на переменную `x` из enclosing области видимости, и поэтому при изменении глобальной переменной `x` поведение функции не изменяется."
   ]
  },
  {
   "cell_type": "markdown",
   "metadata": {
    "id": "8vLc1qedvMs9"
   },
   "source": [
    "Рассмотрим более сложный пример:"
   ]
  },
  {
   "cell_type": "code",
   "execution_count": 16,
   "metadata": {
    "id": "hJTv_tOZg6VO",
    "tags": []
   },
   "outputs": [],
   "source": [
    "def make_adder(x):\n",
    "    def adder(y):\n",
    "        return x + y\n",
    "    return adder"
   ]
  },
  {
   "cell_type": "code",
   "execution_count": 17,
   "metadata": {
    "colab": {
     "base_uri": "https://localhost:8080/"
    },
    "id": "-lETO3c_Ga4l",
    "outputId": "109dcf56-c227-4fb2-e20d-7c69693ec890",
    "tags": []
   },
   "outputs": [
    {
     "name": "stdout",
     "output_type": "stream",
     "text": [
      "7\n",
      "9\n"
     ]
    }
   ],
   "source": [
    "add_two = make_adder(2)\n",
    "\n",
    "print(add_two(5))\n",
    "print(add_two(7))"
   ]
  },
  {
   "cell_type": "code",
   "execution_count": 19,
   "metadata": {
    "colab": {
     "base_uri": "https://localhost:8080/"
    },
    "id": "MrS02QRMHLoz",
    "outputId": "677ad589-1b14-4743-fbdd-96aebaa20291",
    "tags": []
   },
   "outputs": [
    {
     "data": {
      "text/plain": [
       "8"
      ]
     },
     "execution_count": 19,
     "metadata": {},
     "output_type": "execute_result"
    }
   ],
   "source": [
    "add_three = make_adder(3)\n",
    "\n",
    "add_three(5)"
   ]
  },
  {
   "cell_type": "code",
   "execution_count": 20,
   "metadata": {
    "id": "KTsrDShAIN_a",
    "tags": []
   },
   "outputs": [],
   "source": [
    "def make_adder(x):\n",
    "    def adder(y):\n",
    "        return x + y\n",
    "    def adder1(z):\n",
    "        return x + z * 2\n",
    "    return adder, adder1"
   ]
  },
  {
   "cell_type": "code",
   "execution_count": 21,
   "metadata": {
    "id": "6J5TJ4a0IYZG",
    "tags": []
   },
   "outputs": [],
   "source": [
    "adder_global, adder1_global = make_adder(42)"
   ]
  },
  {
   "cell_type": "code",
   "execution_count": 22,
   "metadata": {
    "colab": {
     "base_uri": "https://localhost:8080/"
    },
    "id": "9KiHs8u1Idir",
    "outputId": "d67eb380-8a2b-451a-972b-1b3a34f67b87",
    "tags": []
   },
   "outputs": [
    {
     "data": {
      "text/plain": [
       "43"
      ]
     },
     "execution_count": 22,
     "metadata": {},
     "output_type": "execute_result"
    }
   ],
   "source": [
    "adder_global(1)"
   ]
  },
  {
   "cell_type": "code",
   "execution_count": 23,
   "metadata": {
    "colab": {
     "base_uri": "https://localhost:8080/"
    },
    "id": "N7AHx0OgIe2d",
    "outputId": "e82e4547-6e59-4606-9637-ceab1f61f965",
    "tags": []
   },
   "outputs": [
    {
     "data": {
      "text/plain": [
       "44"
      ]
     },
     "execution_count": 23,
     "metadata": {},
     "output_type": "execute_result"
    }
   ],
   "source": [
    "adder1_global(1)"
   ]
  },
  {
   "cell_type": "markdown",
   "metadata": {
    "id": "JB4yGTxyg6VO"
   },
   "source": [
    "Функции могут замыкать одинаковые переменные"
   ]
  },
  {
   "cell_type": "code",
   "execution_count": 24,
   "metadata": {
    "id": "WRR2Wk8Qg6VP",
    "tags": []
   },
   "outputs": [],
   "source": [
    "value1 = 0\n",
    "\n",
    "def cell1(value=0):\n",
    "    def Get():  # функции принято называть как и переменные - с маленькой буквы, здесь игнорируем чтобы лучше различать внутренние и внешние функции\n",
    "        return value\n",
    "\n",
    "    def Set(new_value):\n",
    "        nonlocal value\n",
    "        value = new_value\n",
    "\n",
    "    return Get, Set"
   ]
  },
  {
   "cell_type": "code",
   "execution_count": 25,
   "metadata": {
    "colab": {
     "base_uri": "https://localhost:8080/"
    },
    "id": "ZCsRBUnMI_Xt",
    "outputId": "f236664f-b09d-4cf2-f2c3-0b968a6e27d4",
    "tags": []
   },
   "outputs": [
    {
     "name": "stdout",
     "output_type": "stream",
     "text": [
      "10\n"
     ]
    }
   ],
   "source": [
    "Get, Set = cell1(10)\n",
    "print(Get())"
   ]
  },
  {
   "cell_type": "code",
   "execution_count": 26,
   "metadata": {
    "colab": {
     "base_uri": "https://localhost:8080/"
    },
    "id": "7H72_k5RJCzK",
    "outputId": "ce9e0bc6-c60d-4617-b547-f09cec7db157",
    "tags": []
   },
   "outputs": [
    {
     "name": "stdout",
     "output_type": "stream",
     "text": [
      "20\n"
     ]
    }
   ],
   "source": [
    "Set(20)\n",
    "print(Get())"
   ]
  },
  {
   "cell_type": "markdown",
   "metadata": {
    "id": "A5AplKKOg6VP"
   },
   "source": [
    "Посмотрим, что внутри замыкания:"
   ]
  },
  {
   "cell_type": "code",
   "execution_count": 27,
   "metadata": {
    "tags": []
   },
   "outputs": [
    {
     "data": {
      "text/plain": [
       "(<cell at 0x10443f2b0: int object at 0x100b16ec0>,)"
      ]
     },
     "execution_count": 27,
     "metadata": {},
     "output_type": "execute_result"
    }
   ],
   "source": [
    "Get.__closure__"
   ]
  },
  {
   "cell_type": "code",
   "execution_count": 28,
   "metadata": {
    "colab": {
     "base_uri": "https://localhost:8080/"
    },
    "id": "E2cM9D-sg6VP",
    "outputId": "7cabb997-7b35-4270-d9b8-5a052fad2bf4",
    "tags": []
   },
   "outputs": [
    {
     "name": "stdout",
     "output_type": "stream",
     "text": [
      "(<cell at 0x10443f2b0: int object at 0x100b16ec0>,) <class 'tuple'>\n",
      "20\n"
     ]
    }
   ],
   "source": [
    "print(Get.__closure__, type(Get.__closure__))\n",
    "print(Get.__closure__[0].cell_contents)"
   ]
  },
  {
   "cell_type": "markdown",
   "metadata": {
    "id": "Y7IvJbzvg6VP"
   },
   "source": [
    "**\\_\\_closure\\_\\_** &mdash; список замкнутых переменных.<br>\n",
    "Переменная представлена в виде класса **cell** с единственным полем **cell_contents**"
   ]
  },
  {
   "cell_type": "code",
   "execution_count": 29,
   "metadata": {
    "colab": {
     "base_uri": "https://localhost:8080/"
    },
    "id": "bhZYGGjBg6VP",
    "outputId": "822f687b-69e6-42eb-9e03-be3f9a82050a",
    "tags": []
   },
   "outputs": [
    {
     "name": "stdout",
     "output_type": "stream",
     "text": [
      "True\n",
      "True\n"
     ]
    }
   ],
   "source": [
    "print(Get.__closure__ == Set.__closure__)\n",
    "print(Get.__closure__[0] is Set.__closure__[0])"
   ]
  },
  {
   "cell_type": "markdown",
   "metadata": {
    "id": "Iz6DmABeg6VQ"
   },
   "source": [
    "# Декораторы"
   ]
  },
  {
   "cell_type": "markdown",
   "metadata": {
    "id": "ioCAnoVGw5Ak"
   },
   "source": [
    "В качестве аргумента для внешней функции можем передать не только числа, но и функцию!\n",
    "\n",
    "Поэтому замыкания можно использовать для быстрого изменения поведения функции."
   ]
  },
  {
   "cell_type": "code",
   "execution_count": null,
   "metadata": {},
   "outputs": [],
   "source": []
  },
  {
   "cell_type": "code",
   "execution_count": 30,
   "metadata": {
    "colab": {
     "base_uri": "https://localhost:8080/"
    },
    "id": "GFbj9mJng6VQ",
    "outputId": "fcac3b75-b692-44de-c7d2-faa550825dd5",
    "tags": []
   },
   "outputs": [
    {
     "name": "stdout",
     "output_type": "stream",
     "text": [
      "WARNING: print is deprecated\n",
      "WARNING: print is deprecated\n",
      "[1, 2, 3]\n",
      "123!!!"
     ]
    }
   ],
   "source": [
    "def deprecate(func):\n",
    "    def inner(*args, **kwargs):\n",
    "        print('WARNING: ' + func.__name__ +' is deprecated')\n",
    "        print('WARNING: ' + func.__name__ +' is deprecated')\n",
    "        return func(*args, **kwargs)\n",
    "    return inner\n",
    "\n",
    "pprint = deprecate(print)\n",
    "\n",
    "pprint([1, 2, 3], '123', sep='\\n', end='!!!')"
   ]
  },
  {
   "cell_type": "code",
   "execution_count": 31,
   "metadata": {
    "colab": {
     "base_uri": "https://localhost:8080/"
    },
    "id": "wYQ0SLcQQS-u",
    "outputId": "4f724af7-d205-44d5-988b-8963c919f22f",
    "tags": []
   },
   "outputs": [
    {
     "name": "stdout",
     "output_type": "stream",
     "text": [
      "WARNING: max is deprecated\n",
      "WARNING: max is deprecated\n"
     ]
    },
    {
     "data": {
      "text/plain": [
       "5"
      ]
     },
     "execution_count": 31,
     "metadata": {},
     "output_type": "execute_result"
    }
   ],
   "source": [
    "mmax = deprecate(max)\n",
    "mmax(3,4,5)"
   ]
  },
  {
   "cell_type": "markdown",
   "metadata": {
    "id": "ZnYPO-MI37Bw"
   },
   "source": [
    "Теперь перед выполнением функции получаем сообщение. Аналогично можем менять поведение и наших функций:"
   ]
  },
  {
   "cell_type": "code",
   "execution_count": 32,
   "metadata": {
    "id": "h5ra7Esz6Eyh",
    "tags": []
   },
   "outputs": [],
   "source": [
    "def own_max(a, b):\n",
    "    'This is a really nice looking docstring'\n",
    "    return a if a > b else b"
   ]
  },
  {
   "cell_type": "code",
   "execution_count": 33,
   "metadata": {
    "colab": {
     "base_uri": "https://localhost:8080/"
    },
    "id": "llSpzyOVQrux",
    "outputId": "31eae3a0-2abe-4446-cc45-58f42cd3abb1",
    "tags": []
   },
   "outputs": [
    {
     "data": {
      "text/plain": [
       "4"
      ]
     },
     "execution_count": 33,
     "metadata": {},
     "output_type": "execute_result"
    }
   ],
   "source": [
    "own_max(3, 4)"
   ]
  },
  {
   "cell_type": "code",
   "execution_count": 34,
   "metadata": {
    "colab": {
     "base_uri": "https://localhost:8080/"
    },
    "id": "E069sx4MQtYo",
    "outputId": "b214c987-4828-40c9-ee4f-8389875af3af",
    "tags": []
   },
   "outputs": [
    {
     "name": "stdout",
     "output_type": "stream",
     "text": [
      "WARNING: own_max is deprecated\n",
      "WARNING: own_max is deprecated\n"
     ]
    },
    {
     "data": {
      "text/plain": [
       "4"
      ]
     },
     "execution_count": 34,
     "metadata": {},
     "output_type": "execute_result"
    }
   ],
   "source": [
    "own_max = deprecate(own_max)\n",
    "own_max(3, 4)"
   ]
  },
  {
   "cell_type": "code",
   "execution_count": 35,
   "metadata": {
    "colab": {
     "base_uri": "https://localhost:8080/"
    },
    "id": "IfuxXXpIRJyN",
    "outputId": "050cd98a-64a9-4f31-ff8b-d90717548fda",
    "tags": []
   },
   "outputs": [
    {
     "data": {
      "text/plain": [
       "<function __main__.deprecate.<locals>.inner(*args, **kwargs)>"
      ]
     },
     "execution_count": 35,
     "metadata": {},
     "output_type": "execute_result"
    }
   ],
   "source": [
    "deprecate(own_max)"
   ]
  },
  {
   "cell_type": "markdown",
   "metadata": {
    "id": "FOnHVa_k7GRA"
   },
   "source": [
    "Допустим, у нас есть функция `greet`, которая выводит приветствие:"
   ]
  },
  {
   "cell_type": "code",
   "execution_count": 36,
   "metadata": {
    "colab": {
     "base_uri": "https://localhost:8080/"
    },
    "id": "JGz2WmL67DZb",
    "outputId": "58feb3cd-027c-4df1-e9c7-501c8d745d50",
    "tags": []
   },
   "outputs": [
    {
     "name": "stdout",
     "output_type": "stream",
     "text": [
      "Привет, Иван!\n"
     ]
    }
   ],
   "source": [
    "def greet(name):\n",
    "    print(f\"Привет, {name}!\")\n",
    "\n",
    "greet(\"Иван\")"
   ]
  },
  {
   "cell_type": "markdown",
   "metadata": {
    "id": "JkldN9w97OrR"
   },
   "source": [
    "Мы хотим, чтобы перед каждым приветствием выводилась дата и время. Можно добавить эту строку прямо в функцию, но что если нам нужно использовать эту функциональность для нескольких функций? Применим декораторы:"
   ]
  },
  {
   "cell_type": "code",
   "execution_count": 37,
   "metadata": {
    "colab": {
     "base_uri": "https://localhost:8080/"
    },
    "id": "UkCnWx7p7Vv5",
    "outputId": "8b1c9333-4c3e-4ad0-d489-dc0a4a37bb74",
    "tags": []
   },
   "outputs": [
    {
     "name": "stdout",
     "output_type": "stream",
     "text": [
      "[2024-10-31 19:35:01.234986] Вызов функции: greet\n",
      "Привет, Иван!\n",
      "[2024-10-31 19:35:01.235241] Возвращение из функции: greet\n"
     ]
    }
   ],
   "source": [
    "import datetime\n",
    "\n",
    "def log_time(func):\n",
    "    \"\"\"Декоратор для логирования времени вызова функции.\"\"\"\n",
    "    def wrapper(*args, **kwargs):  # Ключевое изменение: добавление kwargs\n",
    "        print(f\"[{datetime.datetime.now()}] Вызов функции: {func.__name__}\")\n",
    "        \n",
    "        result = func(*args, **kwargs)  # вызов func тут\n",
    "        \n",
    "        print(f\"[{datetime.datetime.now()}] Возвращение из функции: {func.__name__}\")\n",
    "        return result\n",
    "    return wrapper\n",
    "\n",
    "@log_time\n",
    "def greet(name):\n",
    "  print(f\"Привет, {name}!\")\n",
    "\n",
    "greet(\"Иван\")"
   ]
  },
  {
   "cell_type": "markdown",
   "metadata": {
    "id": "FYVanHh26dA0"
   },
   "source": [
    "Каждый раз переопределять функцию через присвоение неудобно, поэтому Python поддерживает более удобный механизм - декорирование:"
   ]
  },
  {
   "cell_type": "code",
   "execution_count": 38,
   "metadata": {
    "colab": {
     "base_uri": "https://localhost:8080/"
    },
    "id": "zBXd_BScg6VQ",
    "outputId": "a86637d1-6ee3-4420-ae71-38db018ffaec",
    "tags": []
   },
   "outputs": [
    {
     "name": "stdout",
     "output_type": "stream",
     "text": [
      "Congratulations: wrapper is awesome function\n",
      "WARNING: own_max is deprecated\n"
     ]
    },
    {
     "data": {
      "text/plain": [
       "2"
      ]
     },
     "execution_count": 38,
     "metadata": {},
     "output_type": "execute_result"
    }
   ],
   "source": [
    "def deprecated(func):\n",
    "    def wrapper(*args, **kwargs):  # Теперь внутренняя функция называется не inner, а wrapper (обертка)\n",
    "        print('WARNING: ' + func.__name__ +' is deprecated')\n",
    "        return func(*args, **kwargs)\n",
    "    return wrapper\n",
    "\n",
    "def congrats(func):\n",
    "    def wrapper(*args, **kwargs):  # Теперь внутренняя функция называется не inner, а wrapper (обертка)\n",
    "        print('Congratulations: ' + func.__name__ +' is awesome function')\n",
    "        return func(*args, **kwargs)\n",
    "    return wrapper\n",
    "\n",
    "\n",
    "@congrats\n",
    "@deprecated\n",
    "def own_max(a, b):\n",
    "    'This is a really nice looking docstring'\n",
    "    return a if a > b else b\n",
    "\n",
    "own_max(1, 2)"
   ]
  },
  {
   "cell_type": "code",
   "execution_count": 55,
   "metadata": {
    "id": "3dsUygpAUL31",
    "tags": []
   },
   "outputs": [],
   "source": [
    "def own_max(a, b):\n",
    "    'This is a really nice looking docstring'\n",
    "    return a if a > b else b\n",
    "\n",
    "own_max = congrats(deprecated(own_max))"
   ]
  },
  {
   "cell_type": "code",
   "execution_count": 56,
   "metadata": {
    "colab": {
     "base_uri": "https://localhost:8080/"
    },
    "id": "cmF4WXLdUULX",
    "outputId": "5de0126d-d027-4259-f619-e89d882cc1fd",
    "tags": []
   },
   "outputs": [
    {
     "name": "stdout",
     "output_type": "stream",
     "text": [
      "Congratulations: own_max is awesome function\n",
      "WARNING: own_max is deprecated\n"
     ]
    },
    {
     "data": {
      "text/plain": [
       "2"
      ]
     },
     "execution_count": 56,
     "metadata": {},
     "output_type": "execute_result"
    }
   ],
   "source": [
    "own_max(1, 2)"
   ]
  },
  {
   "cell_type": "code",
   "execution_count": 44,
   "metadata": {
    "colab": {
     "base_uri": "https://localhost:8080/"
    },
    "id": "cuIhXRtRUjLg",
    "outputId": "2dfc2b85-1000-4fb0-a000-6f134a26af1f",
    "tags": []
   },
   "outputs": [
    {
     "name": "stdout",
     "output_type": "stream",
     "text": [
      "Help on function wrapper in module __main__:\n",
      "\n",
      "wrapper(*args, **kwargs)\n",
      "\n"
     ]
    }
   ],
   "source": [
    "help(own_max)"
   ]
  },
  {
   "cell_type": "markdown",
   "metadata": {
    "id": "6AkzThvCg6VQ"
   },
   "source": [
    "Но у такого подхода есть проблема:"
   ]
  },
  {
   "cell_type": "code",
   "execution_count": 45,
   "metadata": {
    "colab": {
     "base_uri": "https://localhost:8080/"
    },
    "id": "MWM6kOkfg6VR",
    "outputId": "1ca70018-7d8b-45cd-967e-45bb25d4284c",
    "tags": []
   },
   "outputs": [
    {
     "name": "stdout",
     "output_type": "stream",
     "text": [
      "wrapper\n",
      "None\n"
     ]
    }
   ],
   "source": [
    "print(own_max.__name__)\n",
    "print(own_max.__doc__)"
   ]
  },
  {
   "cell_type": "markdown",
   "metadata": {
    "id": "JDYDw0Weg6VR"
   },
   "source": [
    "**Решение 1** - явно переписать атрибуты функции `wrapper`:"
   ]
  },
  {
   "cell_type": "code",
   "execution_count": 46,
   "metadata": {
    "colab": {
     "base_uri": "https://localhost:8080/"
    },
    "id": "n44t9Fwgg6VR",
    "outputId": "bf584e17-6fbf-4f5d-ffc8-26d33572e747",
    "tags": []
   },
   "outputs": [
    {
     "name": "stdout",
     "output_type": "stream",
     "text": [
      "WARNING: own_max is deprecated\n"
     ]
    },
    {
     "data": {
      "text/plain": [
       "2"
      ]
     },
     "execution_count": 46,
     "metadata": {},
     "output_type": "execute_result"
    }
   ],
   "source": [
    "def deprecated(func):\n",
    "    def wrapper(*args, **kwargs):\n",
    "        print('WARNING: ' + func.__name__ +' is deprecated')\n",
    "        return func(*args, **kwargs)\n",
    "    wrapper.__name__ = func.__name__\n",
    "    wrapper.__doc__ = func.__doc__\n",
    "    wrapper.__module__ = func.__module__\n",
    "    # Можем переписать и другие необходимые атрибуты\n",
    "    return wrapper\n",
    "\n",
    "@deprecated\n",
    "def own_max(a, b):\n",
    "    'This is a really nice looking docstring'\n",
    "    return a if a > b else b\n",
    "\n",
    "own_max(1, 2)"
   ]
  },
  {
   "cell_type": "code",
   "execution_count": null,
   "metadata": {
    "colab": {
     "base_uri": "https://localhost:8080/"
    },
    "id": "9LGIcKwVVUEX",
    "outputId": "d3689602-57f3-4d59-ec28-4ccf50cc5cd9"
   },
   "outputs": [],
   "source": [
    "print(own_max.__name__)\n",
    "print(own_max.__doc__)"
   ]
  },
  {
   "cell_type": "markdown",
   "metadata": {
    "id": "zluCUfBtg6VR"
   },
   "source": [
    "**Решение 2** - использовать декоратор из модуля `functools`:"
   ]
  },
  {
   "cell_type": "code",
   "execution_count": 47,
   "metadata": {
    "colab": {
     "base_uri": "https://localhost:8080/"
    },
    "id": "yl4PrRmTg6VS",
    "outputId": "88d2cd20-16a3-4aec-b01d-3629b446c9b1",
    "tags": []
   },
   "outputs": [
    {
     "name": "stdout",
     "output_type": "stream",
     "text": [
      "WARNING: own_max is deprecated\n",
      "2\n",
      "WARNING: own_min is deprecated\n",
      "1\n",
      "own_max\n",
      "This is a really nice looking docstring\n"
     ]
    }
   ],
   "source": [
    "import functools\n",
    "\n",
    "def deprecated(func):\n",
    "    @functools.wraps(func)\n",
    "    def wrapper(*args, **kwargs):\n",
    "        print('WARNING: ' + func.__name__ +' is deprecated')\n",
    "        return func(*args, **kwargs)\n",
    "    return wrapper\n",
    "\n",
    "@deprecated\n",
    "def own_max(a, b):\n",
    "    'This is a really nice looking docstring'\n",
    "    return a if a > b else b\n",
    "\n",
    "@deprecated\n",
    "def own_min(a, b):\n",
    "    'This is a really nice looking docstring also'\n",
    "    return a if a < b else b\n",
    "\n",
    "print(own_max(1, 2))\n",
    "print(own_min(1, 2))\n",
    "\n",
    "print(own_max.__name__)\n",
    "print(own_max.__doc__)"
   ]
  },
  {
   "cell_type": "code",
   "execution_count": null,
   "metadata": {
    "colab": {
     "base_uri": "https://localhost:8080/"
    },
    "id": "NRY_jP4xV4Ky",
    "outputId": "f4b39ffc-d5e3-4c04-8e33-4f5e231e3802"
   },
   "outputs": [],
   "source": [
    "help(functools.wraps)"
   ]
  },
  {
   "cell_type": "code",
   "execution_count": null,
   "metadata": {
    "colab": {
     "base_uri": "https://localhost:8080/"
    },
    "id": "hNRM6792Vt84",
    "outputId": "825a8106-2386-4c87-85b2-7e19b2ed8c8f"
   },
   "outputs": [],
   "source": [
    "print(own_min.__name__)\n",
    "print(own_min.__doc__)"
   ]
  },
  {
   "cell_type": "markdown",
   "metadata": {
    "id": "COKksmu1g6VS"
   },
   "source": [
    "Можем использовать декораторы и с аргументами:"
   ]
  },
  {
   "cell_type": "code",
   "execution_count": 57,
   "metadata": {
    "colab": {
     "base_uri": "https://localhost:8080/"
    },
    "id": "Hyphewh_g6VT",
    "outputId": "b019fc4b-3ec9-4631-9a21-14089f11120f",
    "tags": []
   },
   "outputs": [
    {
     "name": "stderr",
     "output_type": "stream",
     "text": [
      "f called with args ('Hi!',) kwargs {'test': 42}\n",
      "f called with args ('Hi!', 21.0) kwargs {}\n",
      "f called with args ('Hi!', 10.5) kwargs {}\n",
      "f called with args ('Hi!', 5.25) kwargs {}\n",
      "f called with args ('Hi!', 2.625) kwargs {}\n",
      "f called with args ('Hi!', 1.3125) kwargs {}\n",
      "f called with args ('Hi!', 0.65625) kwargs {}\n"
     ]
    }
   ],
   "source": [
    "import sys\n",
    "\n",
    "def trace(dest=sys.stderr):\n",
    "    def wraps(func):\n",
    "        @functools.wraps(func)\n",
    "        def wrapper(*args, **kwargs):\n",
    "            print(func.__name__ , 'called with args', args,'kwargs', kwargs, file = dest)\n",
    "            return func(*args, **kwargs)\n",
    "        return wrapper\n",
    "    return wraps\n",
    "\n",
    "@trace(sys.stderr)\n",
    "def f(x, test):\n",
    "    if test > 1:\n",
    "        return f(x, test / 2)\n",
    "\n",
    "f('Hi!', test=42)"
   ]
  },
  {
   "cell_type": "code",
   "execution_count": 59,
   "metadata": {
    "tags": []
   },
   "outputs": [
    {
     "data": {
      "text/plain": [
       "<function __main__.f(x, test)>"
      ]
     },
     "execution_count": 59,
     "metadata": {},
     "output_type": "execute_result"
    }
   ],
   "source": [
    "trace(sys.stderr)(f)"
   ]
  },
  {
   "cell_type": "code",
   "execution_count": 49,
   "metadata": {
    "tags": []
   },
   "outputs": [],
   "source": [
    "from collections import Counter \n",
    "\n",
    "class Register(object):\n",
    "    def __init__(self):\n",
    "        self.stat = Counter()\n",
    "        \n",
    "    def __call__(self, func):\n",
    "        nm = func.__name__\n",
    "        def wrapper(*args, **kwrags):\n",
    "            self.stat[nm] += 1\n",
    "            return func(*args, **kwrags)\n",
    "        return wrapper\n",
    "    \n",
    "    def __str__(self):\n",
    "        result = 'fname\\tcallcount\\n'\n",
    "        for name, count in self.stat.items():\n",
    "            result += '{}:\\t{}\\n'.format(name, count)\n",
    "        return result\n",
    "    \n",
    "register = Register()"
   ]
  },
  {
   "cell_type": "code",
   "execution_count": 52,
   "metadata": {
    "tags": []
   },
   "outputs": [
    {
     "data": {
      "text/plain": [
       "True"
      ]
     },
     "execution_count": 52,
     "metadata": {},
     "output_type": "execute_result"
    }
   ],
   "source": [
    "callable(register)"
   ]
  },
  {
   "cell_type": "code",
   "execution_count": 53,
   "metadata": {
    "tags": []
   },
   "outputs": [
    {
     "name": "stdout",
     "output_type": "stream",
     "text": [
      "fname\tcallcount\n",
      "f:\t2\n",
      "q:\t3\n",
      "\n"
     ]
    }
   ],
   "source": [
    "@register\n",
    "def f(x):\n",
    "    return x \n",
    "\n",
    "@register\n",
    "def q(x):\n",
    "    return q\n",
    "\n",
    "f(1), q(2), q(4)\n",
    "q(2), f(5)\n",
    "print(register)"
   ]
  },
  {
   "cell_type": "code",
   "execution_count": 54,
   "metadata": {
    "tags": []
   },
   "outputs": [
    {
     "name": "stdout",
     "output_type": "stream",
     "text": [
      "fname\tcallcount\n",
      "f:\t3\n",
      "q:\t5\n",
      "\n"
     ]
    }
   ],
   "source": [
    "f(1), q(2), q(4)\n",
    "print(register)"
   ]
  }
 ],
 "metadata": {
  "celltoolbar": "Slideshow",
  "colab": {
   "provenance": []
  },
  "kernelspec": {
   "display_name": "Python [conda env:crs_env42]",
   "language": "python",
   "name": "conda-env-crs_env42-py"
  },
  "language_info": {
   "codemirror_mode": {
    "name": "ipython",
    "version": 3
   },
   "file_extension": ".py",
   "mimetype": "text/x-python",
   "name": "python",
   "nbconvert_exporter": "python",
   "pygments_lexer": "ipython3",
   "version": "3.11.6"
  }
 },
 "nbformat": 4,
 "nbformat_minor": 4
}
