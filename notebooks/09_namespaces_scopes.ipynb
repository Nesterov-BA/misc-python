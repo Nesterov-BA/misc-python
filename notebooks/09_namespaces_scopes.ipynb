{
 "cells": [
  {
   "cell_type": "markdown",
   "metadata": {
    "id": "0zizbRxJHlhW"
   },
   "source": [
    "# Пространства имен"
   ]
  },
  {
   "cell_type": "markdown",
   "metadata": {
    "id": "go2IWuZJ_ACn"
   },
   "source": [
    "Вспомним как работает оператор присваивания (связывания):\n",
    "\n",
    "```python\n",
    "x = 'Hello World!'\n",
    "```\n",
    "\n",
    "Он создает связь между именем переменной `x` и значением в памяти `'Hello World!'`."
   ]
  },
  {
   "cell_type": "markdown",
   "metadata": {
    "id": "GGUy6PXQNNPL"
   },
   "source": [
    "**Пространство имен** — это своего рода контейнер, в котором хранятся имена (идентификаторы) и связанные с ними объекты.\n",
    "\n",
    "Python использует пространства имен для управления переменными и функциями, чтобы избежать конфликтов имен. В любой момент в программе могут существовать несколько переменных с одинаковыми именами, но если они находятся в разных пространствах имен, то они не будут конфликтовать друг с другом.\n",
    "\n",
    "Проще говоря, Пространство имен - как большой словарь, где:\n",
    "\n",
    "- **Ключи** - это имена переменных, функций и других идентификаторов\n",
    "- **Значения** - это области памяти, куда эти идентификаторы относятся\n",
    "\n",
    "**Зачем они нужны?** Позволяют использовать одинаковые имена в разных частях кода без путаницы."
   ]
  },
  {
   "cell_type": "markdown",
   "metadata": {
    "id": "uAG3itBiCuXb"
   },
   "source": [
    "Пространства имен - важный компонент Python, поэтому их упоминают и в `The Zen of Python`:"
   ]
  },
  {
   "cell_type": "code",
   "execution_count": null,
   "metadata": {
    "colab": {
     "base_uri": "https://localhost:8080/"
    },
    "id": "qsar8XCjDMIj",
    "outputId": "3259894b-0f1d-4f09-e61d-b077d042ed30"
   },
   "outputs": [],
   "source": [
    "import this"
   ]
  },
  {
   "cell_type": "markdown",
   "metadata": {
    "id": "lHHd0bMvCc4T"
   },
   "source": [
    "В Python выделяют 3 типа пространств имен::\n",
    "\n",
    "- **Встроенные (Built-In)**\n",
    "- **Глобальные (Global)**\n",
    "- **Локальные (Local)**"
   ]
  },
  {
   "cell_type": "markdown",
   "metadata": {
    "id": "PlzGrLfoJATH"
   },
   "source": [
    "## Встроенное пространство (Built-in)"
   ]
  },
  {
   "cell_type": "markdown",
   "metadata": {
    "id": "IfBYmsKzXjEJ"
   },
   "source": [
    "Содержит имена встроенных функций и объектов.\n",
    "\n",
    "Пример: `print`, `len`, `int` и т.д."
   ]
  },
  {
   "cell_type": "markdown",
   "metadata": {
    "id": "FunDtjkILDuE"
   },
   "source": [
    "Посмотреть содержимое встроенного пространства - `dir(__builtins__)`:"
   ]
  },
  {
   "cell_type": "code",
   "execution_count": null,
   "metadata": {
    "colab": {
     "base_uri": "https://localhost:8080/"
    },
    "id": "dUt3xU0tKq9L",
    "outputId": "b934439c-ef3c-4242-b694-052f252b05eb"
   },
   "outputs": [],
   "source": [
    "print(*dir(__builtins__), sep=', ')"
   ]
  },
  {
   "cell_type": "markdown",
   "metadata": {
    "id": "CXXx79MTMwL_"
   },
   "source": [
    "Функция `dir` позволяет получить список атрибутов для объекта, подробнее - на следующем занятии."
   ]
  },
  {
   "cell_type": "markdown",
   "metadata": {
    "id": "NAC2A2FoNEal"
   },
   "source": [
    "- **Сколько может быть встроенных пространств?** - Только одно!\n",
    "- **Когда создается?** - При запуске интерпретатора\n",
    "- **Когда уничтожается?** - При завершении работы интерпретатора"
   ]
  },
  {
   "cell_type": "markdown",
   "metadata": {
    "id": "o3AGqi3aNqfi"
   },
   "source": [
    "## Глобальное пространство (Global)"
   ]
  },
  {
   "cell_type": "markdown",
   "metadata": {
    "id": "_F2Ung3HN4rO"
   },
   "source": [
    "Пространство имен для всего **модуля** (файла с расширением .py). Все переменные и функции, объявленные на верхнем уровне файла, находятся в глобальном пространстве имен для своего модуля."
   ]
  },
  {
   "cell_type": "markdown",
   "metadata": {
    "id": "S-HGbPz7QaKI"
   },
   "source": [
    "Создадим несколько переменных:"
   ]
  },
  {
   "cell_type": "code",
   "execution_count": null,
   "metadata": {
    "id": "-Rt0f6OiQgrJ"
   },
   "outputs": [],
   "source": [
    "variable_a, variable_b, variable_c = 10, 20, 30"
   ]
  },
  {
   "cell_type": "markdown",
   "metadata": {
    "id": "q8z6z224ZpTI"
   },
   "source": [
    "Посмотрим на глобальное пространство имен:"
   ]
  },
  {
   "cell_type": "code",
   "execution_count": null,
   "metadata": {
    "colab": {
     "base_uri": "https://localhost:8080/"
    },
    "id": "CD-XEQEoQlTB",
    "outputId": "23e28c6b-0690-4e62-bcb6-8bdf29c71b3d"
   },
   "outputs": [],
   "source": [
    "print(*dir(), sep=', ')"
   ]
  },
  {
   "cell_type": "markdown",
   "metadata": {
    "id": "UzqcHgtdZrsN"
   },
   "source": [
    "А с другими модулями? Создадим свой модуль и импортируем его:"
   ]
  },
  {
   "cell_type": "code",
   "execution_count": 1,
   "metadata": {
    "colab": {
     "base_uri": "https://localhost:8080/"
    },
    "id": "m1-8xdnbZ0UL",
    "outputId": "cd2857da-2e78-456f-b020-b8bf456c17f2",
    "tags": []
   },
   "outputs": [
    {
     "name": "stdout",
     "output_type": "stream",
     "text": [
      "Writing my_module.py\n"
     ]
    }
   ],
   "source": [
    "%%writefile -a my_module.py\n",
    "\n",
    "doc_string = \"This is a very important module for our project!\"\n",
    "\n",
    "def print_doc():\n",
    "    print(doc_string)"
   ]
  },
  {
   "cell_type": "markdown",
   "metadata": {
    "id": "Ecqk6uZSaKSv"
   },
   "source": [
    "Импортируем функцию `print_doc` и вызовем ее:"
   ]
  },
  {
   "cell_type": "code",
   "execution_count": 2,
   "metadata": {
    "colab": {
     "base_uri": "https://localhost:8080/"
    },
    "id": "PERwCARKaQnF",
    "outputId": "5845ec3d-b6e4-4416-aac8-94b10c740dc6",
    "tags": []
   },
   "outputs": [
    {
     "name": "stdout",
     "output_type": "stream",
     "text": [
      "This is a very important module for our project!\n"
     ]
    }
   ],
   "source": [
    "from my_module import print_doc\n",
    "\n",
    "print_doc()"
   ]
  },
  {
   "cell_type": "markdown",
   "metadata": {
    "id": "1Eb-AJ9daVK_"
   },
   "source": [
    "Функция `print_doc` видит глобальную переменную `doc_string` в модуле `my_module` и использует ее. В самом ноутбуке такой переменной нет:"
   ]
  },
  {
   "cell_type": "code",
   "execution_count": 4,
   "metadata": {
    "tags": []
   },
   "outputs": [],
   "source": [
    "doc_string = 42"
   ]
  },
  {
   "cell_type": "code",
   "execution_count": 3,
   "metadata": {
    "colab": {
     "base_uri": "https://localhost:8080/",
     "height": 147
    },
    "id": "eI2GbcyEakFO",
    "outputId": "17a28bb2-1762-46a1-9e64-8adf1d61a27f",
    "tags": []
   },
   "outputs": [
    {
     "ename": "NameError",
     "evalue": "name 'doc_string' is not defined",
     "output_type": "error",
     "traceback": [
      "\u001b[0;31m---------------------------------------------------------------------------\u001b[0m",
      "\u001b[0;31mNameError\u001b[0m                                 Traceback (most recent call last)",
      "Cell \u001b[0;32mIn[3], line 1\u001b[0m\n\u001b[0;32m----> 1\u001b[0m \u001b[43mdoc_string\u001b[49m\n",
      "\u001b[0;31mNameError\u001b[0m: name 'doc_string' is not defined"
     ]
    }
   ],
   "source": [
    "doc_string"
   ]
  },
  {
   "cell_type": "markdown",
   "metadata": {
    "id": "7WQ8uGMCa24z"
   },
   "source": [
    "- **Сколько может быть глобальных пространств?** - Много, по количеству импортируемых модулей.\n",
    "- **Когда создается?** - При запуске программы (инициализируется основной модуль программы) и **при первом импорте** остальных модулей. Например, при первом импорте модуля `module1` создается глобальное пространство имен для этого модуля.\n",
    "- **Когда уничтожается?** - При завершении работы интерпретатора (для основного модуля программы) и при выгрузке из памяти конкретного модуля (обычно это случается тоже по завершении программы)."
   ]
  },
  {
   "cell_type": "markdown",
   "metadata": {
    "id": "6963KoWfRLYa"
   },
   "source": [
    "## Локальное пространство (Local)"
   ]
  },
  {
   "cell_type": "markdown",
   "metadata": {
    "id": "f7NhMJx8daXF"
   },
   "source": [
    "Пространство имен **для каждой функции**. Все переменные, объявленные внутри функции, существуют только в пределах этой функции.\n",
    "\n"
   ]
  },
  {
   "cell_type": "markdown",
   "metadata": {
    "id": "dfDuaWNXeqUo"
   },
   "source": [
    "Проверим это с помощью следующего примера:"
   ]
  },
  {
   "cell_type": "code",
   "execution_count": 11,
   "metadata": {
    "id": "C0UrCe0zbxuk",
    "tags": []
   },
   "outputs": [],
   "source": [
    "x = 100  # Глобальная переменная\n",
    "\n",
    "\n",
    "def my_function():\n",
    "    x = 10  # Локальная переменная\n",
    "    y = 20  # Ещё одна локальная переменная\n",
    "    print(f\"Внутри функции my_function: x = {x}, y = {y}\")"
   ]
  },
  {
   "cell_type": "code",
   "execution_count": 12,
   "metadata": {
    "colab": {
     "base_uri": "https://localhost:8080/"
    },
    "id": "OyH4WxsAb1RI",
    "outputId": "5b404b1b-abbf-49da-c98d-9f8d5c8be218",
    "tags": []
   },
   "outputs": [
    {
     "name": "stdout",
     "output_type": "stream",
     "text": [
      "Внутри функции my_function: x = 10, y = 20\n"
     ]
    }
   ],
   "source": [
    "# Вызов функции, которая использует своё локальное пространство имен\n",
    "my_function()"
   ]
  },
  {
   "cell_type": "code",
   "execution_count": 13,
   "metadata": {
    "colab": {
     "base_uri": "https://localhost:8080/"
    },
    "id": "Jod-elEHb24f",
    "outputId": "3a8acc37-7885-4665-ff26-00fc6bce37d4",
    "tags": []
   },
   "outputs": [
    {
     "name": "stdout",
     "output_type": "stream",
     "text": [
      "Ошибка: name 'y' is not defined\n"
     ]
    }
   ],
   "source": [
    "# После завершения функции локальные переменные больше не существуют\n",
    "try:\n",
    "    print(y)  # Попытка доступа к локальной переменной вне функции\n",
    "except NameError as e:\n",
    "    print(f\"Ошибка: {e}\")"
   ]
  },
  {
   "cell_type": "code",
   "execution_count": 14,
   "metadata": {
    "colab": {
     "base_uri": "https://localhost:8080/"
    },
    "id": "A0ld1EaPipZU",
    "outputId": "90f122c4-979d-41ca-94bf-dc0214bd91db",
    "tags": []
   },
   "outputs": [
    {
     "name": "stdout",
     "output_type": "stream",
     "text": [
      "В глобальной области видимости: x = 100\n"
     ]
    }
   ],
   "source": [
    "# Глобальная переменная x не была изменена\n",
    "print(f\"В глобальной области видимости: x = {x}\")"
   ]
  },
  {
   "cell_type": "markdown",
   "metadata": {
    "id": "_GVq-P85fz-4"
   },
   "source": [
    "Переменная `y` не видна в глобальном пространстве имен:"
   ]
  },
  {
   "cell_type": "code",
   "execution_count": 15,
   "metadata": {
    "colab": {
     "base_uri": "https://localhost:8080/"
    },
    "id": "bFJj6psofpZH",
    "outputId": "b2288931-59fd-4f69-ee09-6f063a720c1c",
    "tags": []
   },
   "outputs": [
    {
     "name": "stdout",
     "output_type": "stream",
     "text": [
      "False\n",
      "In, Out, _, _6, _7, _8, __, ___, __builtin__, __builtins__, __doc__, __loader__, __name__, __package__, __session__, __spec__, _dh, _i, _i1, _i10, _i11, _i12, _i13, _i14, _i15, _i2, _i3, _i4, _i5, _i6, _i7, _i8, _i9, _ih, _ii, _iii, _oh, doc_string, exit, get_ipython, my_function, open, print_doc, quit, x\n"
     ]
    }
   ],
   "source": [
    "print('y' in dir())\n",
    "print(*dir(), sep=', ')"
   ]
  },
  {
   "cell_type": "markdown",
   "metadata": {
    "id": "qC-WjclWiUlF"
   },
   "source": [
    "При этом важно помнить, что **циклы и условные операторы не создают свои пространства имен!**"
   ]
  },
  {
   "cell_type": "code",
   "execution_count": 16,
   "metadata": {
    "id": "SaMb-X6gi3oJ",
    "tags": []
   },
   "outputs": [
    {
     "name": "stdout",
     "output_type": "stream",
     "text": [
      "Внутри if-блока: y = 20\n",
      "За пределами if-блока: y = 20\n",
      "Внутри цикла: z = 0\n",
      "Внутри цикла: z = 10\n",
      "Внутри цикла: z = 20\n",
      "За пределами цикла: z = 20\n"
     ]
    }
   ],
   "source": [
    "x = 10  # Глобальная переменная\n",
    "\n",
    "if x > 5:\n",
    "    y = 20  # Переменная y, объявленная в блоке if\n",
    "    print(f\"Внутри if-блока: y = {y}\")\n",
    "\n",
    "# Переменная y доступна за пределами if-блока\n",
    "print(f\"За пределами if-блока: y = {y}\")\n",
    "\n",
    "for i in range(3):\n",
    "    z = i * 10  # Переменная z, объявленная внутри цикла\n",
    "    print(f\"Внутри цикла: z = {z}\")\n",
    "\n",
    "# Переменная z доступна за пределами цикла\n",
    "print(f\"За пределами цикла: z = {z}\")\n"
   ]
  },
  {
   "cell_type": "markdown",
   "metadata": {
    "id": "_2i8OA-Pi-dh"
   },
   "source": [
    "Если мы находимся не в какой-либо функции, а в основной программе, то локальным пространством для нас будет глобальное пространство. Убедимся в этом:"
   ]
  },
  {
   "cell_type": "code",
   "execution_count": 17,
   "metadata": {
    "colab": {
     "base_uri": "https://localhost:8080/"
    },
    "id": "xZNl33N_jNWl",
    "outputId": "57dd6aa2-bf89-442f-d8bc-2eb916233ed6",
    "tags": []
   },
   "outputs": [
    {
     "data": {
      "text/plain": [
       "True"
      ]
     },
     "execution_count": 17,
     "metadata": {},
     "output_type": "execute_result"
    }
   ],
   "source": [
    "locals() is globals()"
   ]
  },
  {
   "cell_type": "markdown",
   "metadata": {
    "id": "ziy7MkhNdCtv"
   },
   "source": [
    "- **Сколько может быть локальных пространств?** - Очень много, по количеству вызванных функций.\n",
    "- **Когда создается?** - При **каждом** вызове функции или метода, началась функция - создалось ее пространство имен с локальными переменными (включая аргументы функции) внутри.\n",
    "- **Когда уничтожается?** - При завершении работы функции пространство имен удаляется. Если на локальные переменные внутри больше никто не ссылается из другого пространства имен, то они уничтожаются."
   ]
  },
  {
   "cell_type": "markdown",
   "metadata": {
    "id": "kuTxjCyMd7y0"
   },
   "source": [
    "Пример сохранения переменной при завершении работы функции:"
   ]
  },
  {
   "cell_type": "code",
   "execution_count": 18,
   "metadata": {
    "colab": {
     "base_uri": "https://localhost:8080/"
    },
    "id": "vk0I_RvneLZx",
    "outputId": "0210b74c-6cf3-471f-9fb6-642e4260f3c8",
    "tags": []
   },
   "outputs": [
    {
     "name": "stdout",
     "output_type": "stream",
     "text": [
      "Внутри функции: result = [0, 0, 0, 0, 0], id: 4420301504\n",
      "Результат функции: [0, 0, 0, 0, 0], id: 4420301504\n",
      "Ошибка: name 'result' is not defined\n"
     ]
    }
   ],
   "source": [
    "def my_function(n):\n",
    "    result = [0] * n  # Локальная переменная\n",
    "    print(f\"Внутри функции: {result = }, id: {id(result)}\")\n",
    "    return result\n",
    "\n",
    "x = my_function(5)  # Вызов функции создаёт локальное пространство имен\n",
    "print(f\"Результат функции: {x}, id: {id(x)}\")  # Объект сохранился, но доступен под другим именем в другом пространстве имен\n",
    "\n",
    "try:\n",
    "    print(result)  # Попытка доступа к локальной переменной за пределами функции\n",
    "except NameError as e:\n",
    "    print(f\"Ошибка: {e}\")\n"
   ]
  },
  {
   "cell_type": "markdown",
   "metadata": {
    "id": "sxD0D78hejuw"
   },
   "source": [
    "## Итоговая иерархия пространств имен"
   ]
  },
  {
   "cell_type": "markdown",
   "metadata": {
    "id": "vKr81dmCAH7m"
   },
   "source": [
    "![image.png](data:image/png;base64,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)"
   ]
  },
  {
   "cell_type": "markdown",
   "metadata": {
    "id": "Nzlnw0sfF26J"
   },
   "source": [
    "# Словари пространств имен"
   ]
  },
  {
   "cell_type": "markdown",
   "metadata": {
    "id": "m2aocdOLGb_J"
   },
   "source": [
    "Ранее мы говорили, что пространства имен можно воспринимать как словари, в которых ключом является имя переменной, а значением - значение переменной.\n",
    "\n",
    "На самом деле для глобальных и локальных пространств имен это абсолютно верно! Python действительно хранит эти пространства имен в виде словарей."
   ]
  },
  {
   "cell_type": "markdown",
   "metadata": {
    "id": "ItT6B_6ZHf8Q"
   },
   "source": [
    "## Функция `globals`"
   ]
  },
  {
   "cell_type": "markdown",
   "metadata": {
    "id": "YItCWwcbHjA5"
   },
   "source": [
    "`globals()`  - это встроенная функция Python, которая возвращает словарь, содержащий текущее глобальное пространство имен."
   ]
  },
  {
   "cell_type": "markdown",
   "metadata": {
    "id": "TeOvQEtqhuFc"
   },
   "source": [
    "**Как это работает?**\n",
    "\n",
    "Когда вы вызываете globals(), Python возвращает ссылку на словарь, который представляет собой текущее глобальное пространство имен.\n",
    "\n",
    "Этот словарь содержит все глобальные переменные и функции, определенные в текущем скрипте или модуле.\n",
    "\n",
    "Вы можете изменять этот словарь, добавляя новые элементы или изменяя существующие.\n"
   ]
  },
  {
   "cell_type": "markdown",
   "metadata": {
    "id": "B2vKNUXsIK9z"
   },
   "source": [
    "Рассмотрим это на примере:"
   ]
  },
  {
   "cell_type": "code",
   "execution_count": 20,
   "metadata": {
    "colab": {
     "base_uri": "https://localhost:8080/"
    },
    "id": "9A7cQwTgIOqC",
    "outputId": "9d2b6784-81ca-4a98-e0ec-88e3ad9c886e",
    "tags": []
   },
   "outputs": [
    {
     "data": {
      "text/plain": [
       "dict"
      ]
     },
     "execution_count": 20,
     "metadata": {},
     "output_type": "execute_result"
    }
   ],
   "source": [
    "type(globals())"
   ]
  },
  {
   "cell_type": "code",
   "execution_count": null,
   "metadata": {
    "colab": {
     "base_uri": "https://localhost:8080/"
    },
    "id": "Iu_0vLxOIPul",
    "outputId": "cdb160f5-9ff5-4489-82a7-3ec1c74f4396"
   },
   "outputs": [],
   "source": [
    "globals()"
   ]
  },
  {
   "cell_type": "markdown",
   "metadata": {
    "id": "khCpboCKIsgu"
   },
   "source": [
    "Как видим, интерпретатор уже поместил некоторые переменные в глобальное пространство имен. В зависимости от версии Python, операционной системы и другого ПО, эти переменные могут слегка отличаться.\n",
    "\n"
   ]
  },
  {
   "cell_type": "markdown",
   "metadata": {
    "id": "CY54DhsDJCR_"
   },
   "source": [
    "Теперь посмотрим как поменяется словарь при объявлении новой переменной:"
   ]
  },
  {
   "cell_type": "code",
   "execution_count": 21,
   "metadata": {
    "id": "709_i5XJJIV_",
    "tags": []
   },
   "outputs": [],
   "source": [
    "x = 'foo'"
   ]
  },
  {
   "cell_type": "code",
   "execution_count": null,
   "metadata": {
    "colab": {
     "base_uri": "https://localhost:8080/"
    },
    "id": "dzchDQz8JPib",
    "outputId": "1e434995-d2e1-4c2b-cce7-6964e5e607c0"
   },
   "outputs": [],
   "source": [
    "globals()"
   ]
  },
  {
   "cell_type": "markdown",
   "metadata": {
    "id": "C5zPZOa5JaYl"
   },
   "source": [
    "Как видим, после присвоения переменной `x = 'foo'`, новый элемент появился в словаре глобального пространства имен."
   ]
  },
  {
   "cell_type": "markdown",
   "metadata": {
    "id": "8uw0JO-NJ3vp"
   },
   "source": [
    "Обычно мы получаем доступ к данным, хранящимся в переменной, через имя этой переменной. Но кроме того мы можем менять и добавлять переменные не напрямую, а через словарь глобального пространства имен:"
   ]
  },
  {
   "cell_type": "code",
   "execution_count": 22,
   "metadata": {
    "colab": {
     "base_uri": "https://localhost:8080/",
     "height": 35
    },
    "id": "oPe0AKZXKdrf",
    "outputId": "e22fcac2-f1f0-4215-a40e-67f23c8e81bb",
    "tags": []
   },
   "outputs": [
    {
     "data": {
      "text/plain": [
       "'foo'"
      ]
     },
     "execution_count": 22,
     "metadata": {},
     "output_type": "execute_result"
    }
   ],
   "source": [
    "x"
   ]
  },
  {
   "cell_type": "code",
   "execution_count": 23,
   "metadata": {
    "tags": []
   },
   "outputs": [],
   "source": [
    "d = globals()"
   ]
  },
  {
   "cell_type": "code",
   "execution_count": 24,
   "metadata": {
    "colab": {
     "base_uri": "https://localhost:8080/",
     "height": 35
    },
    "id": "cz5vca7CKfMa",
    "outputId": "2e7b803a-2172-4eae-920f-69b70f5c5157",
    "tags": []
   },
   "outputs": [
    {
     "data": {
      "text/plain": [
       "'foo'"
      ]
     },
     "execution_count": 24,
     "metadata": {},
     "output_type": "execute_result"
    }
   ],
   "source": [
    "d['x']"
   ]
  },
  {
   "cell_type": "code",
   "execution_count": 25,
   "metadata": {
    "colab": {
     "base_uri": "https://localhost:8080/"
    },
    "id": "ZT6_z8_cJWgb",
    "outputId": "c9d0a06a-7667-4fee-ffb7-cf511cbf951a",
    "tags": []
   },
   "outputs": [
    {
     "data": {
      "text/plain": [
       "True"
      ]
     },
     "execution_count": 25,
     "metadata": {},
     "output_type": "execute_result"
    }
   ],
   "source": [
    "x is globals()['x']"
   ]
  },
  {
   "cell_type": "markdown",
   "metadata": {
    "id": "JbxALb76K48j"
   },
   "source": [
    "Попробуем добавить новую переменную:"
   ]
  },
  {
   "cell_type": "code",
   "execution_count": 28,
   "metadata": {
    "id": "rmgafyLaK9jF",
    "tags": []
   },
   "outputs": [],
   "source": [
    "globals()['y'] = 42"
   ]
  },
  {
   "cell_type": "code",
   "execution_count": null,
   "metadata": {
    "colab": {
     "base_uri": "https://localhost:8080/"
    },
    "id": "xVWyjyG5K_3F",
    "outputId": "4683d638-7c1f-49c9-e56b-fa557c2e9df4"
   },
   "outputs": [],
   "source": [
    "globals()"
   ]
  },
  {
   "cell_type": "code",
   "execution_count": 29,
   "metadata": {
    "colab": {
     "base_uri": "https://localhost:8080/"
    },
    "id": "ZGqapreuLFz0",
    "outputId": "6a05045e-7bcc-450f-e792-52ec7ec779cb",
    "tags": []
   },
   "outputs": [
    {
     "data": {
      "text/plain": [
       "42"
      ]
     },
     "execution_count": 29,
     "metadata": {},
     "output_type": "execute_result"
    }
   ],
   "source": [
    "y"
   ]
  },
  {
   "cell_type": "code",
   "execution_count": 30,
   "metadata": {
    "id": "ZJ67izdzLGzg",
    "tags": []
   },
   "outputs": [],
   "source": [
    "globals()[' y  hello'] = 3.14159"
   ]
  },
  {
   "cell_type": "code",
   "execution_count": null,
   "metadata": {
    "colab": {
     "base_uri": "https://localhost:8080/"
    },
    "id": "nUaRzTwxLJPY",
    "outputId": "8bf90dcb-4640-450d-8340-3c8cbd88c11a"
   },
   "outputs": [],
   "source": [
    "y"
   ]
  },
  {
   "cell_type": "code",
   "execution_count": 31,
   "metadata": {
    "colab": {
     "base_uri": "https://localhost:8080/"
    },
    "id": "OmVtZfO7qEOu",
    "outputId": "dc4db500-1c9c-4a31-96c5-7afedc35f44e",
    "tags": []
   },
   "outputs": [
    {
     "data": {
      "text/plain": [
       "3.14159"
      ]
     },
     "execution_count": 31,
     "metadata": {},
     "output_type": "execute_result"
    }
   ],
   "source": [
    "globals()[' y  hello']"
   ]
  },
  {
   "cell_type": "code",
   "execution_count": 32,
   "metadata": {
    "colab": {
     "base_uri": "https://localhost:8080/",
     "height": 144
    },
    "id": "77Xsk6TEqFEu",
    "outputId": "002a26d2-23cb-4677-e560-785a21b71606",
    "tags": []
   },
   "outputs": [
    {
     "ename": "SyntaxError",
     "evalue": "invalid syntax (2153119544.py, line 1)",
     "output_type": "error",
     "traceback": [
      "\u001b[0;36m  Cell \u001b[0;32mIn[32], line 1\u001b[0;36m\u001b[0m\n\u001b[0;31m    y  hello\u001b[0m\n\u001b[0m       ^\u001b[0m\n\u001b[0;31mSyntaxError\u001b[0m\u001b[0;31m:\u001b[0m invalid syntax\n"
     ]
    }
   ],
   "source": [
    " y  hello"
   ]
  },
  {
   "cell_type": "markdown",
   "metadata": {
    "id": "UflEhcHPLQTl"
   },
   "source": [
    "## Функция `locals`"
   ]
  },
  {
   "cell_type": "markdown",
   "metadata": {
    "id": "BITXUvrZLWMO"
   },
   "source": [
    "`locals()` - это встроенная функция Python, которая возвращает словарь, содержащий текущее локальное пространство имен."
   ]
  },
  {
   "cell_type": "markdown",
   "metadata": {
    "id": "M71tCzHQiayk"
   },
   "source": [
    "**Как это работает?**\n",
    "\n",
    "Когда вы вызываете locals(), Python возвращает ссылку на словарь, который представляет собой текущее локальное пространство имен.\n",
    "\n",
    "Этот словарь содержит все локальные переменные и функции, определенные в текущей функции или методе.\n",
    "\n",
    "Вы можете изменять этот словарь, добавляя новые элементы или изменяя существующие.\n"
   ]
  },
  {
   "cell_type": "code",
   "execution_count": 35,
   "metadata": {
    "tags": []
   },
   "outputs": [
    {
     "data": {
      "text/plain": [
       "1"
      ]
     },
     "execution_count": 35,
     "metadata": {},
     "output_type": "execute_result"
    }
   ],
   "source": [
    "(1)"
   ]
  },
  {
   "cell_type": "code",
   "execution_count": 36,
   "metadata": {
    "tags": []
   },
   "outputs": [
    {
     "ename": "NameError",
     "evalue": "name 'x' is not defined",
     "output_type": "error",
     "traceback": [
      "\u001b[0;31m---------------------------------------------------------------------------\u001b[0m",
      "\u001b[0;31mNameError\u001b[0m                                 Traceback (most recent call last)",
      "Cell \u001b[0;32mIn[36], line 1\u001b[0m\n\u001b[0;32m----> 1\u001b[0m \u001b[43mx\u001b[49m\n",
      "\u001b[0;31mNameError\u001b[0m: name 'x' is not defined"
     ]
    }
   ],
   "source": [
    "x"
   ]
  },
  {
   "cell_type": "code",
   "execution_count": 37,
   "metadata": {
    "tags": []
   },
   "outputs": [
    {
     "name": "stdout",
     "output_type": "stream",
     "text": [
      "\n",
      "Here is a list of the Python keywords.  Enter any keyword to get more help.\n",
      "\n",
      "False               class               from                or\n",
      "None                continue            global              pass\n",
      "True                def                 if                  raise\n",
      "and                 del                 import              return\n",
      "as                  elif                in                  try\n",
      "assert              else                is                  while\n",
      "async               except              lambda              with\n",
      "await               finally             nonlocal            yield\n",
      "break               for                 not                 \n",
      "\n"
     ]
    }
   ],
   "source": [
    "help('keywords')"
   ]
  },
  {
   "cell_type": "code",
   "execution_count": 34,
   "metadata": {
    "tags": []
   },
   "outputs": [],
   "source": [
    "del (x)"
   ]
  },
  {
   "cell_type": "code",
   "execution_count": 33,
   "metadata": {
    "id": "qcSe3hsDLkIk",
    "tags": []
   },
   "outputs": [],
   "source": [
    "def f(x, y):\n",
    "    s = 'foo'\n",
    "    print(locals())"
   ]
  },
  {
   "cell_type": "code",
   "execution_count": 39,
   "metadata": {
    "colab": {
     "base_uri": "https://localhost:8080/"
    },
    "id": "SML3Bz5hLlkM",
    "outputId": "e6a9b7df-2c03-436d-8403-d58700473963",
    "tags": []
   },
   "outputs": [
    {
     "name": "stdout",
     "output_type": "stream",
     "text": [
      "{'x': 10, 'y': 0.5, 's': 'foo'}\n"
     ]
    }
   ],
   "source": [
    "f(10, 0.5)"
   ]
  },
  {
   "cell_type": "markdown",
   "metadata": {
    "id": "PC1gOXxfL26T"
   },
   "source": [
    "Будучи вызванной внутри функции `f()`, `locals()` возвращает словарь, представляющий словарь локального пространства имен для этой функции.\n",
    "Заметим, что кроме локально определенных переменных в нем так же присутствуют аргументы функции `x` и `y`, поскольку они тоже являются локальными для функции `f()`."
   ]
  },
  {
   "cell_type": "markdown",
   "metadata": {
    "id": "dlj2zSx6MoL8"
   },
   "source": [
    "Если мы вызовем `locals()` вне функции, в основной программе, то получим такой же выход, как в `globals()`."
   ]
  },
  {
   "cell_type": "code",
   "execution_count": null,
   "metadata": {
    "colab": {
     "base_uri": "https://localhost:8080/"
    },
    "id": "mNjP98xnNeVD",
    "outputId": "e887ffa8-9114-4957-e2dd-8fc72fc861f8"
   },
   "outputs": [],
   "source": [
    "globals() is locals()"
   ]
  },
  {
   "cell_type": "markdown",
   "metadata": {
    "id": "r9ImS8kYilbz"
   },
   "source": [
    "Пример:"
   ]
  },
  {
   "cell_type": "code",
   "execution_count": 42,
   "metadata": {
    "colab": {
     "base_uri": "https://localhost:8080/"
    },
    "id": "Lk_0s42kikex",
    "outputId": "da749e7e-1633-48d7-eca8-5353e1a981e5",
    "tags": []
   },
   "outputs": [
    {
     "name": "stdout",
     "output_type": "stream",
     "text": [
      "{'x': 10, 'y': 20}\n",
      "{'x': 10, 'y': 20, 'z': 30}\n"
     ]
    }
   ],
   "source": [
    "def some_function():\n",
    "    x = 10  # Локальная переменная\n",
    "    y = 20  # Локальная переменная\n",
    "\n",
    "    print(locals())  # Выведет словарь с {'x': 10, 'y': 20}\n",
    "\n",
    "    locals()['z'] = 30  # Добавляем новую локальную переменную\n",
    "    print(locals())  # Выведет словарь с {'x': 10, 'y': 20, 'z': 30}\n",
    "\n",
    "some_function()"
   ]
  },
  {
   "cell_type": "markdown",
   "metadata": {
    "id": "TTmEEQefHlhX"
   },
   "source": [
    "# Область видимости (scope)"
   ]
  },
  {
   "cell_type": "markdown",
   "metadata": {
    "id": "9Ta3lTBA-Erm"
   },
   "source": [
    "Итак, при работе программы одновременно может быть куча пространств имен, в которых будут разные переменные с одинаковым именем.\n",
    "\n",
    "**Вопрос** - когда мы обращаемся к переменной по имени, как Python понимает, к какой именно переменной мы обращаемся?"
   ]
  },
  {
   "cell_type": "markdown",
   "metadata": {
    "id": "7TIeaw3xfbOu"
   },
   "source": [
    "**Области видимости (scope)** в Python — это механизм, определяющий, где в программе можно использовать переменные и к каким именам можно получить доступ в различных частях кода. Python использует иерархическую структуру областей видимости для поиска переменных."
   ]
  },
  {
   "cell_type": "markdown",
   "metadata": {
    "id": "OEhmLdXC_cdu"
   },
   "source": [
    "## Иерархия областей видимости: правило LEGB"
   ]
  },
  {
   "cell_type": "markdown",
   "metadata": {
    "id": "sR0FGTXDfg0E"
   },
   "source": [
    "Python ищет переменные в определённом порядке, который называют LEGB. Каждая буква обозначает уровень области видимости, на котором Python ищет переменные:"
   ]
  },
  {
   "cell_type": "markdown",
   "metadata": {
    "id": "0Dmd_KKIfrrp"
   },
   "source": [
    "1. **L (Local)** - локальная область видимости. Это область видимости внутри функции. Переменные, объявленные внутри функции, существуют только в этой функции. Локальные переменные создаются при вызове функции и уничтожаются после завершения её выполнения.\n",
    "2. **E (Enclosing)** - вложенная область видимости. Это область видимости для функций, находящихся внутри других функций (Что? Да! Об этом попозже). Переменные, объявленные во внешней функции, доступны и для вложенной функции.\n",
    "3. **G (Global)** - глобальная область видимости. Это область видимости на уровне модуля. Переменные, объявленные в модуле (файле Python), существуют в глобальной области видимости для этого модуля.\n",
    "4. **B (Built-in)** - встроенная область видимости. Это область, в которой находятся все встроенные функции и объекты Python, такие как `print()`, `len()`, `int()`, и т.д. Эти переменные (чаще всего функции) доступны везде в программе."
   ]
  },
  {
   "cell_type": "markdown",
   "metadata": {
    "id": "T8rUMLIihLUp"
   },
   "source": [
    "Python сначала ищет переменную в локальной области, затем во вложенной, затем в глобальной и, наконец, в встроенной области, если переменная не найдена в предыдущих областях."
   ]
  },
  {
   "cell_type": "markdown",
   "metadata": {
    "id": "qzLwp187A8ju"
   },
   "source": [
    "Рассмотрим это правило на примере:"
   ]
  },
  {
   "cell_type": "code",
   "execution_count": 48,
   "metadata": {
    "colab": {
     "base_uri": "https://localhost:8080/"
    },
    "id": "NkJkWErvg9bE",
    "outputId": "25e7ef98-482a-4212-8836-d3152359af76",
    "tags": []
   },
   "outputs": [
    {
     "ename": "NameError",
     "evalue": "name 'x' is not defined",
     "output_type": "error",
     "traceback": [
      "\u001b[0;31m---------------------------------------------------------------------------\u001b[0m",
      "\u001b[0;31mNameError\u001b[0m                                 Traceback (most recent call last)",
      "Cell \u001b[0;32mIn[48], line 11\u001b[0m\n\u001b[1;32m      8\u001b[0m     inner_function()\n\u001b[1;32m      9\u001b[0m     \u001b[38;5;28mprint\u001b[39m(\u001b[38;5;124mf\u001b[39m\u001b[38;5;124m\"\u001b[39m\u001b[38;5;124mВложенная область: x = \u001b[39m\u001b[38;5;132;01m{\u001b[39;00mx\u001b[38;5;132;01m}\u001b[39;00m\u001b[38;5;124m\"\u001b[39m)\n\u001b[0;32m---> 11\u001b[0m \u001b[43mouter_function\u001b[49m\u001b[43m(\u001b[49m\u001b[43m)\u001b[49m\n\u001b[1;32m     12\u001b[0m \u001b[38;5;28mprint\u001b[39m(\u001b[38;5;124mf\u001b[39m\u001b[38;5;124m\"\u001b[39m\u001b[38;5;124mГлобальная область: x = \u001b[39m\u001b[38;5;132;01m{\u001b[39;00mx\u001b[38;5;132;01m}\u001b[39;00m\u001b[38;5;124m\"\u001b[39m)\n",
      "Cell \u001b[0;32mIn[48], line 8\u001b[0m, in \u001b[0;36mouter_function\u001b[0;34m()\u001b[0m\n\u001b[1;32m      5\u001b[0m \u001b[38;5;28;01mdef\u001b[39;00m \u001b[38;5;21minner_function\u001b[39m():\n\u001b[1;32m      6\u001b[0m     \u001b[38;5;66;03m# x = 10  # Локальная переменная\u001b[39;00m\n\u001b[1;32m      7\u001b[0m     \u001b[38;5;28mprint\u001b[39m(\u001b[38;5;124mf\u001b[39m\u001b[38;5;124m\"\u001b[39m\u001b[38;5;124mЛокальная область: x = \u001b[39m\u001b[38;5;132;01m{\u001b[39;00mx\u001b[38;5;132;01m}\u001b[39;00m\u001b[38;5;124m\"\u001b[39m)\n\u001b[0;32m----> 8\u001b[0m \u001b[43minner_function\u001b[49m\u001b[43m(\u001b[49m\u001b[43m)\u001b[49m\n\u001b[1;32m      9\u001b[0m \u001b[38;5;28mprint\u001b[39m(\u001b[38;5;124mf\u001b[39m\u001b[38;5;124m\"\u001b[39m\u001b[38;5;124mВложенная область: x = \u001b[39m\u001b[38;5;132;01m{\u001b[39;00mx\u001b[38;5;132;01m}\u001b[39;00m\u001b[38;5;124m\"\u001b[39m)\n",
      "Cell \u001b[0;32mIn[48], line 7\u001b[0m, in \u001b[0;36mouter_function.<locals>.inner_function\u001b[0;34m()\u001b[0m\n\u001b[1;32m      5\u001b[0m \u001b[38;5;28;01mdef\u001b[39;00m \u001b[38;5;21minner_function\u001b[39m():\n\u001b[1;32m      6\u001b[0m     \u001b[38;5;66;03m# x = 10  # Локальная переменная\u001b[39;00m\n\u001b[0;32m----> 7\u001b[0m     \u001b[38;5;28mprint\u001b[39m(\u001b[38;5;124mf\u001b[39m\u001b[38;5;124m\"\u001b[39m\u001b[38;5;124mЛокальная область: x = \u001b[39m\u001b[38;5;132;01m{\u001b[39;00m\u001b[43mx\u001b[49m\u001b[38;5;132;01m}\u001b[39;00m\u001b[38;5;124m\"\u001b[39m)\n",
      "\u001b[0;31mNameError\u001b[0m: name 'x' is not defined"
     ]
    }
   ],
   "source": [
    "# x = 50  # Глобальная переменная\n",
    "\n",
    "def outer_function():\n",
    "    # x = 20  # Переменная в области видимости enclosing\n",
    "    def inner_function():\n",
    "        # x = 10  # Локальная переменная\n",
    "        print(f\"Локальная область: x = {x}\")\n",
    "    inner_function()\n",
    "    print(f\"Вложенная область: x = {x}\")\n",
    "\n",
    "outer_function()\n",
    "print(f\"Глобальная область: x = {x}\")"
   ]
  },
  {
   "cell_type": "markdown",
   "metadata": {
    "id": "2JhkaCeEhzeG"
   },
   "source": [
    "## Статичность областей видимости"
   ]
  },
  {
   "cell_type": "markdown",
   "metadata": {
    "id": "MhOrx-LblDvj"
   },
   "source": [
    "Пространства имен в Python являются статическими, т.е. Python анализирует код и создает нужные области видимости перед его выполнения. Рассмотрим пример:"
   ]
  },
  {
   "cell_type": "code",
   "execution_count": 49,
   "metadata": {
    "colab": {
     "base_uri": "https://localhost:8080/",
     "height": 312
    },
    "id": "jkH1jxHqjKuh",
    "outputId": "8e80137f-32a5-4e97-cd27-918d52010518",
    "tags": []
   },
   "outputs": [
    {
     "ename": "UnboundLocalError",
     "evalue": "cannot access local variable 'x' where it is not associated with a value",
     "output_type": "error",
     "traceback": [
      "\u001b[0;31m---------------------------------------------------------------------------\u001b[0m",
      "\u001b[0;31mUnboundLocalError\u001b[0m                         Traceback (most recent call last)",
      "Cell \u001b[0;32mIn[49], line 9\u001b[0m\n\u001b[1;32m      6\u001b[0m     x \u001b[38;5;241m=\u001b[39m \u001b[38;5;241m2\u001b[39m  \u001b[38;5;66;03m# А теперь определяем x локально\u001b[39;00m\n\u001b[1;32m      7\u001b[0m     \u001b[38;5;66;03m# Значит в функции outer_function все же обращаются к локальной, значит print выдаст ошибку\u001b[39;00m\n\u001b[0;32m----> 9\u001b[0m \u001b[43mouter_function\u001b[49m\u001b[43m(\u001b[49m\u001b[43m)\u001b[49m\n",
      "Cell \u001b[0;32mIn[49], line 4\u001b[0m, in \u001b[0;36mouter_function\u001b[0;34m()\u001b[0m\n\u001b[1;32m      3\u001b[0m \u001b[38;5;28;01mdef\u001b[39;00m \u001b[38;5;21mouter_function\u001b[39m():\n\u001b[0;32m----> 4\u001b[0m     \u001b[38;5;28mprint\u001b[39m(\u001b[43mx\u001b[49m)  \u001b[38;5;66;03m# Переменной x в функции не определено - используем глобальную\u001b[39;00m\n\u001b[1;32m      6\u001b[0m     x \u001b[38;5;241m=\u001b[39m \u001b[38;5;241m2\u001b[39m\n",
      "\u001b[0;31mUnboundLocalError\u001b[0m: cannot access local variable 'x' where it is not associated with a value"
     ]
    }
   ],
   "source": [
    "x = 10  # Глобальная переменная\n",
    "\n",
    "def outer_function():\n",
    "    print(x)  # Переменной x в функции не определено - используем глобальную\n",
    "\n",
    "    x = 2  # А теперь определяем x локально\n",
    "    # Значит в функции outer_function все же обращаются к локальной, значит print выдаст ошибку\n",
    "\n",
    "outer_function()"
   ]
  },
  {
   "cell_type": "markdown",
   "metadata": {
    "id": "iuAHv5dnlqMh"
   },
   "source": [
    "Т.к. в функции `outer_function` имеется операция присвоения для переменной `x`, то Python понимает, что мы здесь хотим использовать локальную переменную, поэтому при попытке в этой же функции (пусть и ранее) вызвать `print(x)` мы получаем ошибку.\n",
    "\n",
    "Аналогичная ошибка будет, если мы закомментируем `print(x)`:"
   ]
  },
  {
   "cell_type": "code",
   "execution_count": 50,
   "metadata": {
    "colab": {
     "base_uri": "https://localhost:8080/",
     "height": 336
    },
    "id": "wpeou7cMmBHJ",
    "outputId": "db1f994f-e896-4507-c546-d4822db1d365",
    "tags": []
   },
   "outputs": [
    {
     "ename": "NameError",
     "evalue": "cannot access free variable 'x' where it is not associated with a value in enclosing scope",
     "output_type": "error",
     "traceback": [
      "\u001b[0;31m---------------------------------------------------------------------------\u001b[0m",
      "\u001b[0;31mNameError\u001b[0m                                 Traceback (most recent call last)",
      "Cell \u001b[0;32mIn[50], line 11\u001b[0m\n\u001b[1;32m      8\u001b[0m     x \u001b[38;5;241m=\u001b[39m \u001b[38;5;241m2\u001b[39m  \u001b[38;5;66;03m# А теперь определяем x локально\u001b[39;00m\n\u001b[1;32m      9\u001b[0m     \u001b[38;5;66;03m# Значит в функции outer_function все же обращаются к локальной, значит print выдаст ошибку\u001b[39;00m\n\u001b[0;32m---> 11\u001b[0m \u001b[43mouter_function\u001b[49m\u001b[43m(\u001b[49m\u001b[43m)\u001b[49m\n",
      "Cell \u001b[0;32mIn[50], line 7\u001b[0m, in \u001b[0;36mouter_function\u001b[0;34m()\u001b[0m\n\u001b[1;32m      4\u001b[0m \u001b[38;5;28;01mdef\u001b[39;00m \u001b[38;5;21minner_function\u001b[39m():\n\u001b[1;32m      5\u001b[0m     \u001b[38;5;28mprint\u001b[39m(x)  \u001b[38;5;66;03m# Нужна переменная x, на момент определения функции она ожидается в глобальном пространстве имен\u001b[39;00m\n\u001b[0;32m----> 7\u001b[0m \u001b[38;5;28mprint\u001b[39m(\u001b[43minner_function\u001b[49m\u001b[43m(\u001b[49m\u001b[43m)\u001b[49m)\n\u001b[1;32m      8\u001b[0m x \u001b[38;5;241m=\u001b[39m \u001b[38;5;241m2\u001b[39m\n",
      "Cell \u001b[0;32mIn[50], line 5\u001b[0m, in \u001b[0;36mouter_function.<locals>.inner_function\u001b[0;34m()\u001b[0m\n\u001b[1;32m      4\u001b[0m \u001b[38;5;28;01mdef\u001b[39;00m \u001b[38;5;21minner_function\u001b[39m():\n\u001b[0;32m----> 5\u001b[0m     \u001b[38;5;28mprint\u001b[39m(\u001b[43mx\u001b[49m)\n",
      "\u001b[0;31mNameError\u001b[0m: cannot access free variable 'x' where it is not associated with a value in enclosing scope"
     ]
    }
   ],
   "source": [
    "x = 10  # Глобальная переменная\n",
    "\n",
    "def outer_function():\n",
    "    def inner_function():\n",
    "        print(x)  # Нужна переменная x, на момент определения функции она ожидается в глобальном пространстве имен\n",
    "\n",
    "    print(inner_function())\n",
    "    x = 2  # А теперь определяем x локально\n",
    "    # Значит в функции outer_function все же обращаются к локальной, значит print выдаст ошибку\n",
    "\n",
    "outer_function()"
   ]
  },
  {
   "cell_type": "markdown",
   "metadata": {
    "id": "8Jcton3zh662"
   },
   "source": [
    "В Python области видимости переменных определяются **в момент написания кода**, а не во время его выполнения.\n",
    "\n",
    "То есть, когда вы создаёте функцию или программу, Python \"смотрит\" на расположение переменных и функций в коде и решает, где каждая переменная доступна."
   ]
  },
  {
   "cell_type": "markdown",
   "metadata": {
    "id": "z0x82Iv4Nhx0"
   },
   "source": [
    "## Специализированные ключевые слова"
   ]
  },
  {
   "cell_type": "markdown",
   "metadata": {
    "id": "es9EcAl1rmSf"
   },
   "source": [
    "Как обойти LEGB? Для этого есть пара ключевых слов:"
   ]
  },
  {
   "cell_type": "markdown",
   "metadata": {
    "id": "314wvb77N8Nr"
   },
   "source": [
    "### Ключевое слово `global`"
   ]
  },
  {
   "cell_type": "markdown",
   "metadata": {
    "id": "KRClHqOoizPS"
   },
   "source": [
    "Ключевое слово *global* в Python используется для объявления переменных глобального scope. Оно позволяет изменять переменные, определенные вне функции, изнутри этой функции."
   ]
  },
  {
   "cell_type": "code",
   "execution_count": 51,
   "metadata": {
    "colab": {
     "base_uri": "https://localhost:8080/"
    },
    "id": "VO12fUGoONYm",
    "outputId": "f9a305dc-8815-41ba-c8be-2d6663c74157",
    "tags": []
   },
   "outputs": [
    {
     "name": "stdout",
     "output_type": "stream",
     "text": [
      "Before: 20\n",
      "40\n",
      "After: 40\n"
     ]
    }
   ],
   "source": [
    "x = 20\n",
    "y = 10\n",
    "\n",
    "def f():\n",
    "    global x, y\n",
    "    x = 40\n",
    "    print(x)\n",
    "\n",
    "print(\"Before:\", x)\n",
    "f()\n",
    "print(\"After:\", x)"
   ]
  },
  {
   "cell_type": "markdown",
   "metadata": {
    "id": "wkbRkR2EOw5d"
   },
   "source": [
    "Выражение `global x` показывает, что пока функция `f()` выполняется, все ссылки на переменную `x` будут относиться к `x` в глобальном пространстве имен.\n",
    "\n",
    "То есть операция присвоения `x = 40` не создают новую переменную, а меняет переменную `x` в глобальной области видимости:"
   ]
  },
  {
   "cell_type": "markdown",
   "metadata": {
    "id": "hNVNfQRMPiWl"
   },
   "source": [
    "Аналогичные результаты мы могли бы получить с использованием функции `globals()`:"
   ]
  },
  {
   "cell_type": "code",
   "execution_count": 52,
   "metadata": {
    "colab": {
     "base_uri": "https://localhost:8080/"
    },
    "id": "cFRj8P5KPnbH",
    "outputId": "13e3c67e-3f45-421e-8418-36fbd3ca5473",
    "tags": []
   },
   "outputs": [
    {
     "name": "stdout",
     "output_type": "stream",
     "text": [
      "Before: 20\n",
      "40\n",
      "After: 40\n"
     ]
    }
   ],
   "source": [
    "x = 20\n",
    "\n",
    "def f():\n",
    "    globals()['x'] = 40\n",
    "    print(x)\n",
    "\n",
    "print(\"Before:\", x)\n",
    "f()\n",
    "print(\"After:\", x)"
   ]
  },
  {
   "cell_type": "markdown",
   "metadata": {
    "id": "6lu0rlrxQAJu"
   },
   "source": [
    "Принципиальной разницы этих двух подходов нет, разве что ключевое слово `global` делает код чище."
   ]
  },
  {
   "cell_type": "markdown",
   "metadata": {
    "id": "rKonqW80QJe0"
   },
   "source": [
    "Если указанного имени нет в глобальном пространстве имен, то комбинация операции присвоения и ключевого слова `global` создадут ее:"
   ]
  },
  {
   "cell_type": "code",
   "execution_count": null,
   "metadata": {
    "colab": {
     "base_uri": "https://localhost:8080/"
    },
    "id": "anC3TC-ORhwj",
    "outputId": "6cd8c47f-c336-4dd0-ee6f-bba42e92d04d"
   },
   "outputs": [],
   "source": [
    "# Проверяем, что z нет\n",
    "try:\n",
    "    del z\n",
    "except NameError:\n",
    "    pass\n",
    "\n",
    "\n",
    "def g():\n",
    "    global z\n",
    "    z = 20\n",
    "\n",
    "g()\n",
    "print(\"Now:\", z)  # теперь есть"
   ]
  },
  {
   "cell_type": "markdown",
   "metadata": {
    "id": "7q-Ae3_RjLVX"
   },
   "source": [
    "Давайте рассмотрим более сложный пример использования ключевого слова *global* в Python. Этот пример демонстрирует работу с несколькими глобальными переменными и вложенными функциями."
   ]
  },
  {
   "cell_type": "markdown",
   "metadata": {
    "id": "OajM2XKBHlhZ"
   },
   "source": [
    "### Ключевое слово `nonlocal`"
   ]
  },
  {
   "cell_type": "markdown",
   "metadata": {
    "id": "gOVBj_d1SDCf"
   },
   "source": [
    "Ключевое слово *nonlocal* в Python используется для изменения переменных, определенных в более внешней области видимости. Вот основные моменты о nonlocal:\n",
    "\n",
    "- Позволяет изменять переменные, определенные в более внешней области видимости функции.\n",
    "- Используется внутри вложенных функций для доступа к переменным родительской функции.\n"
   ]
  },
  {
   "cell_type": "code",
   "execution_count": null,
   "metadata": {
    "id": "YjR3IY9cThw-"
   },
   "outputs": [],
   "source": [
    "def f():\n",
    "    x = 20\n",
    "\n",
    "    def g():\n",
    "        x = 40\n",
    "\n",
    "    g()\n",
    "    print(x)\n",
    "\n",
    "f()"
   ]
  },
  {
   "cell_type": "markdown",
   "metadata": {
    "id": "yRm4ZLUyTkK3"
   },
   "source": [
    "В этом случае первое определение x находится в оборачивающем пространстве, а не в глобальном. Функция `g()` не может напрямую изменять значения как в глобальной, так и в оборачивающей областях видимости."
   ]
  },
  {
   "cell_type": "markdown",
   "metadata": {
    "id": "2M-a9n6tUmDT"
   },
   "source": [
    "`global` здесь тоже не поможет:"
   ]
  },
  {
   "cell_type": "code",
   "execution_count": null,
   "metadata": {
    "id": "BmmlC3HkUxJH"
   },
   "outputs": [],
   "source": [
    "del x"
   ]
  },
  {
   "cell_type": "code",
   "execution_count": null,
   "metadata": {
    "id": "esXWfZCFUph_"
   },
   "outputs": [],
   "source": [
    "def f():\n",
    "    x = 20\n",
    "\n",
    "    def g():\n",
    "        global x\n",
    "        x = 40\n",
    "\n",
    "    g()\n",
    "    print(x)"
   ]
  },
  {
   "cell_type": "code",
   "execution_count": null,
   "metadata": {
    "colab": {
     "base_uri": "https://localhost:8080/"
    },
    "id": "6lbldxFJUygw",
    "outputId": "74b81cf5-abc7-4074-ee36-8992227459e3"
   },
   "outputs": [],
   "source": [
    "f()"
   ]
  },
  {
   "cell_type": "code",
   "execution_count": null,
   "metadata": {
    "colab": {
     "base_uri": "https://localhost:8080/"
    },
    "id": "bFMKo-bzUsXj",
    "outputId": "729b4cc7-3068-4ab2-d6c8-e3ef7a142aa1"
   },
   "outputs": [],
   "source": [
    "x"
   ]
  },
  {
   "cell_type": "markdown",
   "metadata": {
    "id": "ao0RAkGOU9C_"
   },
   "source": [
    "Поэтому в таких ситуациях используют ключевое слово `nonlocal` - интерпретатор будет искать переменную в ближайшем оборачивающем пространстве имен:"
   ]
  },
  {
   "cell_type": "code",
   "execution_count": null,
   "metadata": {
    "id": "-wN999GaVKks"
   },
   "outputs": [],
   "source": [
    "def f():\n",
    "    x = 20\n",
    "\n",
    "    def g():\n",
    "        nonlocal x\n",
    "        x = 40\n",
    "\n",
    "    g()\n",
    "    print(x)"
   ]
  },
  {
   "cell_type": "code",
   "execution_count": null,
   "metadata": {
    "colab": {
     "base_uri": "https://localhost:8080/"
    },
    "id": "GaopmUyBVM-r",
    "outputId": "09f59877-a330-4eaf-de96-70e1931fad9a"
   },
   "outputs": [],
   "source": [
    "f()"
   ]
  },
  {
   "cell_type": "markdown",
   "metadata": {
    "id": "gEC5U9PvqSZz"
   },
   "source": [
    "# А что с изменением вместо присваивания?"
   ]
  },
  {
   "cell_type": "markdown",
   "metadata": {
    "id": "vo_yiE96BNN5"
   },
   "source": [
    "Все трюки с пространствами имен завязаны именно на операцию присваивания, но не на другие способы изменить объекты:"
   ]
  },
  {
   "cell_type": "code",
   "execution_count": 53,
   "metadata": {
    "colab": {
     "base_uri": "https://localhost:8080/"
    },
    "id": "Uy3Qxg-c5uWp",
    "outputId": "e7798101-ba49-4e36-f900-b157eef09002",
    "tags": []
   },
   "outputs": [
    {
     "name": "stdout",
     "output_type": "stream",
     "text": [
      "Inside: [0, 1, 0]\n",
      "Outside: [0, 1, 0]\n"
     ]
    }
   ],
   "source": [
    "l = [0, 1]\n",
    "\n",
    "def f():\n",
    "    def g():\n",
    "        l.append(0)  # Спокойно меняем глобальную переменную\n",
    "        print(\"Inside:\", l)\n",
    "\n",
    "    g()\n",
    "\n",
    "f()\n",
    "\n",
    "print(\"Outside:\", l)"
   ]
  },
  {
   "cell_type": "markdown",
   "metadata": {
    "id": "vFuBtQs_qzen"
   },
   "source": [
    "А если скопируем внутри?"
   ]
  },
  {
   "cell_type": "code",
   "execution_count": 54,
   "metadata": {
    "colab": {
     "base_uri": "https://localhost:8080/",
     "height": 336
    },
    "id": "HOR9e4rP6UjI",
    "outputId": "9f08bfd6-df4a-4255-d274-ffa6bf3c3f4f",
    "tags": []
   },
   "outputs": [
    {
     "ename": "UnboundLocalError",
     "evalue": "cannot access local variable 'l' where it is not associated with a value",
     "output_type": "error",
     "traceback": [
      "\u001b[0;31m---------------------------------------------------------------------------\u001b[0m",
      "\u001b[0;31mUnboundLocalError\u001b[0m                         Traceback (most recent call last)",
      "Cell \u001b[0;32mIn[54], line 11\u001b[0m\n\u001b[1;32m      7\u001b[0m         \u001b[38;5;28mprint\u001b[39m(l)\n\u001b[1;32m      9\u001b[0m     g()\n\u001b[0;32m---> 11\u001b[0m \u001b[43mf\u001b[49m\u001b[43m(\u001b[49m\u001b[43m)\u001b[49m\n",
      "Cell \u001b[0;32mIn[54], line 9\u001b[0m, in \u001b[0;36mf\u001b[0;34m()\u001b[0m\n\u001b[1;32m      6\u001b[0m     l \u001b[38;5;241m=\u001b[39m l[:]\u001b[38;5;241m.\u001b[39mappend(\u001b[38;5;241m0\u001b[39m)  \u001b[38;5;66;03m# До выполнения ссылались на глобальную переменную, затем - на локальную, так нельзя!\u001b[39;00m\n\u001b[1;32m      7\u001b[0m     \u001b[38;5;28mprint\u001b[39m(l)\n\u001b[0;32m----> 9\u001b[0m \u001b[43mg\u001b[49m\u001b[43m(\u001b[49m\u001b[43m)\u001b[49m\n",
      "Cell \u001b[0;32mIn[54], line 6\u001b[0m, in \u001b[0;36mf.<locals>.g\u001b[0;34m()\u001b[0m\n\u001b[1;32m      5\u001b[0m \u001b[38;5;28;01mdef\u001b[39;00m \u001b[38;5;21mg\u001b[39m():\n\u001b[0;32m----> 6\u001b[0m     l \u001b[38;5;241m=\u001b[39m \u001b[43ml\u001b[49m[:]\u001b[38;5;241m.\u001b[39mappend(\u001b[38;5;241m0\u001b[39m)  \u001b[38;5;66;03m# До выполнения ссылались на глобальную переменную, затем - на локальную, так нельзя!\u001b[39;00m\n\u001b[1;32m      7\u001b[0m     \u001b[38;5;28mprint\u001b[39m(l)\n",
      "\u001b[0;31mUnboundLocalError\u001b[0m: cannot access local variable 'l' where it is not associated with a value"
     ]
    }
   ],
   "source": [
    "l = [0, 1]\n",
    "\n",
    "\n",
    "def f():\n",
    "    def g():\n",
    "        l = l[:].append(0)  # До выполнения ссылались на глобальную переменную, затем - на локальную, так нельзя!\n",
    "        print(l)\n",
    "\n",
    "    g()\n",
    "\n",
    "f()"
   ]
  },
  {
   "cell_type": "markdown",
   "metadata": {
    "id": "QX8kqPyyjbqE"
   },
   "source": [
    "# Чем могут быть полезны вложенные функции?"
   ]
  },
  {
   "cell_type": "markdown",
   "metadata": {
    "id": "Ov7YKFNUjhGM"
   },
   "source": [
    "Вложенные функции могут быть полезны в следующим случаях:"
   ]
  },
  {
   "cell_type": "markdown",
   "metadata": {
    "id": "EG64Puw4tN_I"
   },
   "source": [
    "### Инкапсуляция логики"
   ]
  },
  {
   "cell_type": "markdown",
   "metadata": {
    "id": "mdlAYhgOtTSC"
   },
   "source": [
    "Когда нужна вспомогательная функция, которая будет использоваться только внутри другой функции, нет необходимости объявлять её глобально:"
   ]
  },
  {
   "cell_type": "code",
   "execution_count": null,
   "metadata": {
    "id": "jlYgbXERe9jr"
   },
   "outputs": [],
   "source": [
    "def process_data(data):\n",
    "    def clean_data(d):\n",
    "        # Вспомогательная функция для очистки данных\n",
    "        return [item.strip() for item in d]\n",
    "\n",
    "    def transform_data(d):\n",
    "        # Вспомогательная функция для трансформации данных\n",
    "        return [item.upper() for item in d]\n",
    "\n",
    "    cleaned_data = clean_data(data)\n",
    "    transformed_data = transform_data(cleaned_data)\n",
    "    return transformed_data\n",
    "\n",
    "data = [\"   apple   \", \"   banana   \", \"   cherry   \"]\n",
    "print(process_data(data))\n",
    "# Вывод: ['APPLE', 'BANANA', 'CHERRY']"
   ]
  }
 ],
 "metadata": {
  "celltoolbar": "Slideshow",
  "colab": {
   "provenance": []
  },
  "kernelspec": {
   "display_name": "Python [conda env:crs_env42]",
   "language": "python",
   "name": "conda-env-crs_env42-py"
  },
  "language_info": {
   "codemirror_mode": {
    "name": "ipython",
    "version": 3
   },
   "file_extension": ".py",
   "mimetype": "text/x-python",
   "name": "python",
   "nbconvert_exporter": "python",
   "pygments_lexer": "ipython3",
   "version": "3.11.6"
  }
 },
 "nbformat": 4,
 "nbformat_minor": 4
}
