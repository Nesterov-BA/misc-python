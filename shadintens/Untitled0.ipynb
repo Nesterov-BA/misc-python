{
  "cells": [
    {
      "cell_type": "code",
      "execution_count": null,
      "metadata": {
        "colab": {
          "base_uri": "https://localhost:8080/"
        },
        "id": "U3jCXfsUGei6",
        "outputId": "8a670b26-3f1e-4b8e-9039-e7d9b5675743"
      },
      "outputs": [
        {
          "name": "stdout",
          "output_type": "stream",
          "text": [
            "2\n",
            "[[[1], [0]], [[0], [1]]]\n",
            "0.250 0.500 0.250\n"
          ]
        }
      ],
      "source": [
        "TAIL = 0  # решка\n",
        "HEAD = 1  # орел\n",
        "\n",
        "n = int(input().strip())\n",
        "if n == 1:\n",
        "    print(\"0.000000 1.000000 0.000000\")\n",
        "    exit(0)\n",
        "\n",
        "sequence = [\n",
        "    [ [0] * 1 for _ in range(2) ],  \n",
        "    [ [0] * 1 for _ in range(2) ]   \n",
        "]\n",
        "sequence[HEAD][1][0] = 1  \n",
        "sequence[TAIL][0][0] = 1  \n",
        "\n",
        "for length in range(1, n):\n",
        "    new_sequence = [\n",
        "        [ [0] * (length + 1) for _ in range(length + 2) ],\n",
        "        [ [0] * (length + 1) for _ in range(length + 2) ]\n",
        "    ]\n",
        "\n",
        "    \n",
        "    for last in (TAIL, HEAD):\n",
        "        for k_val in range(length + 1):    \n",
        "            for y_val in range(length):    \n",
        "                cnt = sequence[last][k_val][y_val]\n",
        "                if cnt == 0:\n",
        "                    continue\n",
        "\n",
        "                for new_char in (TAIL, HEAD):\n",
        "                    nlast = new_char\n",
        "                    nk = k_val + (1 if new_char == HEAD else 0)\n",
        "                    ny = y_val\n",
        "\n",
        "                    if last == HEAD and new_char == HEAD:\n",
        "                        ny += 1\n",
        "\n",
        "                    new_sequence[nlast][nk][ny] += cnt\n",
        "\n",
        "    sequence = new_sequence\n",
        "\n",
        "total_seqs = 2 ** n  \n",
        "win_A = 0  \n",
        "win_B = 0 \n",
        "draw = 0 \n",
        "\n",
        "for last in (TAIL, HEAD):\n",
        "    for k_val in range(n + 1):     \n",
        "        for y_val in range(n):     \n",
        "            cnt = sequence[last][k_val][y_val]\n",
        "            if cnt == 0:\n",
        "                continue\n",
        "            L = 1 if last == HEAD else 0\n",
        "            diff = k_val - L - 2 * y_val\n",
        "\n",
        "            if diff > 0:\n",
        "                win_A += cnt\n",
        "            elif diff < 0:\n",
        "                win_B += cnt\n",
        "            else:\n",
        "                draw += cnt\n",
        "\n",
        "pA = win_A / total_seqs\n",
        "pDraw = draw / total_seqs\n",
        "pB = win_B / total_seqs\n",
        "\n",
        "\n",
        "print(f\"{pA:.6f} {pDraw:.6f} {pB:.6f}\")"
      ]
    },
    {
      "cell_type": "code",
      "execution_count": null,
      "metadata": {
        "colab": {
          "base_uri": "https://localhost:8080/"
        },
        "id": "HB_c5vtmJINX",
        "outputId": "aff9a689-57a1-4e19-ae84-a7ce86bd55b7"
      },
      "outputs": [
        {
          "name": "stdout",
          "output_type": "stream",
          "text": [
            "{'serpset': [{'query': 'okna', 'results': [{'position': 0, 'url': 'okna-msk.ru', 'relevance': 0.95, 'cost': 77}, {'position': 1, 'url': 'okna-pvh.ru', 'relevance': 0.95, 'cost': 70}, {'position': 2, 'url': 'ne-okna.ru', 'relevance': 0.3, 'cost': 100}, {'position': 3, 'url': 'best-okna.ru', 'relevance': 0.1, 'cost': 0}]}, {'query': 'lego', 'results': [{'position': 0, 'url': 'lego.ru', 'relevance': 0.95, 'cost': 15}, {'position': 1, 'url': 'lego-mir.ru', 'relevance': 0.7, 'cost': 30}, {'position': 2, 'url': 'disney.ru', 'relevance': 0.3, 'cost': 100}]}], 'new_documents': [{'query': 'weather', 'url': 'yandex.ru/pogoda', 'relevance': 1, 'cost': 0}, {'query': 'okna', 'url': 'yandex.ru/okna', 'relevance': 1, 'cost': 100}, {'query': 'lego', 'url': 'yandex.ru/lego', 'relevance': 0.4, 'cost': 10}]}\n"
          ]
        }
      ],
      "source": [
        "import json\n",
        "\n",
        "json_data = \"\"\"{\n",
        "\t\"serpset\": [\n",
        "\t\t{\n",
        "\t\t\t\"query\": \"okna\",\n",
        "\t\t \t\"results\": [\n",
        "\t\t\t\t{\"position\": 0, \"url\": \"okna-msk.ru\", \"relevance\": 0.95, \"cost\": 77},\n",
        "\t\t\t\t{\"position\": 1, \"url\": \"okna-pvh.ru\", \"relevance\": 0.95, \"cost\": 70},\n",
        "\t\t\t\t{\"position\": 2, \"url\": \"ne-okna.ru\", \"relevance\": 0.3, \"cost\": 100},\n",
        "\t\t\t\t{\"position\": 3, \"url\": \"best-okna.ru\", \"relevance\": 0.1, \"cost\": 0}\n",
        "\t\t]},\n",
        "\t\t{\n",
        "\t\t\t\"query\": \"lego\",\n",
        "\t\t\t\"results\": [\n",
        "\t\t\t\t{\"position\": 0, \"url\": \"lego.ru\", \"relevance\": 0.95, \"cost\": 15},\n",
        "\t\t\t\t{\"position\": 1, \"url\": \"lego-mir.ru\", \"relevance\": 0.7, \"cost\": 30},\n",
        "\t\t\t\t{\"position\": 2, \"url\": \"disney.ru\", \"relevance\": 0.3, \"cost\": 100}]\n",
        "\t\t}],\n",
        "\t\"new_documents\": [\n",
        "\t\t{\"query\": \"weather\", \"url\": \"yandex.ru/pogoda\", \"relevance\": 1, \"cost\": 0},\n",
        "\t\t{\"query\": \"okna\", \"url\": \"yandex.ru/okna\", \"relevance\": 1, \"cost\": 100},\n",
        "\t\t{\"query\": \"lego\", \"url\": \"yandex.ru/lego\", \"relevance\": 0.4, \"cost\": 10}\n",
        "\t]}\n",
        "\"\"\"\n",
        "data_dict = json.loads(json_data)\n",
        "print(data_dict)\n",
        "# serpset - список размеченных поисковых выдач\n",
        "# new_documents - размеченные документы\n",
        "\n",
        "# Поисковая выдача — это упорядоченный список документов, показанных поисковой системой по текстовому запросу. Документы размечаются по релевантности и по максимальному количеству денег, которое документ может принести.\n",
        "# Вставьте минимальное количество документов на выдачу, чтобы максимизировать деньги и не ухудшить качество. Размер выдачи по запросу тоже не должен измениться: новые документы вклиниваются в выдачу, а низ удаляется.\n",
        "# Порядок изначальных документов нельзя менять. Выведите максимальную суммарную выручку по всем запросам."
      ]
    },
    {
      "cell_type": "code",
      "execution_count": null,
      "metadata": {
        "colab": {
          "base_uri": "https://localhost:8080/"
        },
        "id": "FvpGyeL0Sbha",
        "outputId": "b83b9d20-9285-4ee9-cb55-b85bf709bbf0"
      },
      "outputs": [
        {
          "name": "stdout",
          "output_type": "stream",
          "text": [
            "338.81\n"
          ]
        }
      ],
      "source": [
        "import math\n",
        "import json\n",
        "import sys\n",
        "\n",
        "def count_bits(mask):\n",
        "    return bin(mask).count('1')\n",
        "\n",
        "def add_to_pareto(lst, new_pair):\n",
        "    new_q, new_r = new_pair\n",
        "    to_remove = []\n",
        "    dominated = False\n",
        "    for idx, (q, r) in enumerate(lst):\n",
        "        if q >= new_q and r >= new_r:\n",
        "            dominated = True\n",
        "            break\n",
        "        if new_q >= q and new_r >= r:\n",
        "            to_remove.append(idx)\n",
        "    if dominated:\n",
        "        return lst\n",
        "    new_list = [pair for idx, pair in enumerate(lst) if idx not in to_remove]\n",
        "    new_list.append((new_q, new_r))\n",
        "    return new_list\n",
        "\n",
        "\n",
        "data = json.loads(json_data)\n",
        "total_revenue = 0.0\n",
        "\n",
        "for serp in data['serpset']:\n",
        "    query = serp['query']\n",
        "    D = sorted(serp['results'], key=lambda x: x['position'])\n",
        "    M = [doc for doc in data['new_documents'] if doc['query'] == query]\n",
        "    L = len(D)\n",
        "    n_new = len(M)\n",
        "\n",
        "    orig_quality = 0.0\n",
        "    orig_revenue = 0.0\n",
        "    for idx, doc in enumerate(D, start=1):\n",
        "        orig_quality += doc['relevance'] / idx\n",
        "        orig_revenue += doc['cost'] / math.sqrt(idx)\n",
        "\n",
        "    best_rev = orig_revenue\n",
        "\n",
        "    # sequence: [i][mask] = [(quality, revenue), ...]\n",
        "    # i - num of placed original docs\n",
        "    # mask - chosen new docs\n",
        "    if n_new > 0:\n",
        "        sequence = [[[] for _ in range(1 << n_new)] for _ in range(L + 1)]\n",
        "        sequence[0][0] = [(0, 0)]\n",
        "\n",
        "        for i in range(L + 1):\n",
        "            for mask in range(1 << n_new):\n",
        "                p_len = i + count_bits(mask)\n",
        "                if p_len >= L:\n",
        "                    continue\n",
        "\n",
        "                for (q, r) in sequence[i][mask]:\n",
        "                    if i < L:\n",
        "                        pos = p_len + 1\n",
        "                        doc = D[i]\n",
        "                        new_q = q + doc['relevance'] / pos\n",
        "                        new_r = r + doc['cost'] / math.sqrt(pos)\n",
        "                        sequence[i + 1][mask] = add_to_pareto(sequence[i + 1][mask], (new_q, new_r))\n",
        "\n",
        "                    for j in range(n_new):\n",
        "                        if mask & (1 << j):\n",
        "                            continue\n",
        "                        pos = p_len + 1\n",
        "                        doc = M[j]\n",
        "                        new_q = q + doc['relevance'] / pos\n",
        "                        new_r = r + doc['cost'] / math.sqrt(pos)\n",
        "                        new_mask = mask | (1 << j)\n",
        "                        sequence[i][new_mask] = add_to_pareto(sequence[i][new_mask], (new_q, new_r))\n",
        "\n",
        "\n",
        "        for i in range(L + 1):\n",
        "            for mask in range(1 << n_new):\n",
        "                if i + count_bits(mask) != L:\n",
        "                    continue\n",
        "                for (q, r) in sequence[i][mask]:\n",
        "                    if q >= orig_quality and r > best_rev:\n",
        "                        best_rev = r\n",
        "\n",
        "    total_revenue += best_rev\n",
        "\n",
        "total_revenue = round(total_revenue, 2)\n",
        "print(f\"{total_revenue:.2f}\")"
      ]
    }
  ],
  "metadata": {
    "colab": {
      "provenance": []
    },
    "kernelspec": {
      "display_name": "Python 3",
      "name": "python3"
    },
    "language_info": {
      "name": "python"
    }
  },
  "nbformat": 4,
  "nbformat_minor": 0
}
